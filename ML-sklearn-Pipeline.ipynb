{
 "cells": [
  {
   "cell_type": "code",
   "execution_count": 5,
   "metadata": {
    "slideshow": null
   },
   "outputs": [],
   "source": [
    "import seaborn as sns\n",
    "sns.set()"
   ]
  },
  {
   "cell_type": "markdown",
   "metadata": {
    "slideshow": null
   },
   "source": [
    "# ML: Predicting Star Ratings\n"
   ]
  },
  {
   "cell_type": "markdown",
   "metadata": {
    "slideshow": null
   },
   "source": [
    "Our objective is to predict a new venue's popularity from information available when the venue opens.  We will do this by machine learning from a data set of venue popularities provided by Yelp.  The data set contains meta data about the venue (where it is located, the type of food served, etc.).  It also contains a star rating. Note that the venues are not limited to restaurants."
   ]
  },
  {
   "cell_type": "markdown",
   "metadata": {
    "slideshow": null
   },
   "source": [
    "## Download and parse the incoming data\n"
   ]
  },
  {
   "cell_type": "markdown",
   "metadata": {
    "slideshow": null
   },
   "source": [
    "We start by downloading the data set from Amazon S3:"
   ]
  },
  {
   "cell_type": "code",
   "execution_count": 4,
   "metadata": {
    "slideshow": null
   },
   "outputs": [],
   "source": [
    "!aws s3 sync s3://mldata/ . --exclude '*' --include 'yelp_train_academic_dataset_business.json.gz'"
   ]
  },
  {
   "cell_type": "markdown",
   "metadata": {
    "slideshow": null
   },
   "source": [
    "The training data are a series of JSON objects, in a Gzipped file. Python supports Gzipped files natively: [`gzip.open`](https://docs.python.org/3/library/gzip.html) has the same interface as `open`, but handles `.gz` files automatically.\n",
    "\n",
    "The built-in `json` package has a `loads` function that converts a JSON string into a Python dictionary. We could call that once for each row of the file. [`ujson`](http://docs.micropython.org/en/latest/library/ujson.html) has the same interface as the built-in `json` package, but is *substantially* faster (at the cost of non-robust handling of malformed JSON). We will use that inside a list comprehension to get a list of dictionaries:"
   ]
  },
  {
   "cell_type": "code",
   "execution_count": 17,
   "metadata": {
    "slideshow": null
   },
   "outputs": [],
   "source": [
    "import ujson as json\n",
    "import gzip\n",
    "\n",
    "with gzip.open('yelp_train_academic_dataset_business.json.gz') as f:\n",
    "    data = [json.loads(line) for line in f]"
   ]
  },
  {
   "cell_type": "code",
   "execution_count": 18,
   "metadata": {},
   "outputs": [
    {
     "data": {
      "text/plain": [
       "37938"
      ]
     },
     "execution_count": 18,
     "metadata": {},
     "output_type": "execute_result"
    }
   ],
   "source": [
    "len(data)"
   ]
  },
  {
   "cell_type": "code",
   "execution_count": 19,
   "metadata": {},
   "outputs": [
    {
     "data": {
      "text/plain": [
       "[{'business_id': 'vcNAWiLM4dR7D2nwwJ7nCA',\n",
       "  'full_address': '4840 E Indian School Rd\\nSte 101\\nPhoenix, AZ 85018',\n",
       "  'hours': {'Tuesday': {'close': '17:00', 'open': '08:00'},\n",
       "   'Friday': {'close': '17:00', 'open': '08:00'},\n",
       "   'Monday': {'close': '17:00', 'open': '08:00'},\n",
       "   'Wednesday': {'close': '17:00', 'open': '08:00'},\n",
       "   'Thursday': {'close': '17:00', 'open': '08:00'}},\n",
       "  'open': True,\n",
       "  'categories': ['Doctors', 'Health & Medical'],\n",
       "  'city': 'Phoenix',\n",
       "  'review_count': 7,\n",
       "  'name': 'Eric Goldberg, MD',\n",
       "  'neighborhoods': [],\n",
       "  'longitude': -111.983758,\n",
       "  'state': 'AZ',\n",
       "  'stars': 3.5,\n",
       "  'latitude': 33.499313,\n",
       "  'attributes': {'By Appointment Only': True},\n",
       "  'type': 'business'},\n",
       " {'business_id': 'JwUE5GmEO-sH1FuwJgKBlQ',\n",
       "  'full_address': '6162 US Highway 51\\nDe Forest, WI 53532',\n",
       "  'hours': {},\n",
       "  'open': True,\n",
       "  'categories': ['Restaurants'],\n",
       "  'city': 'De Forest',\n",
       "  'review_count': 26,\n",
       "  'name': 'Pine Cone Restaurant',\n",
       "  'neighborhoods': [],\n",
       "  'longitude': -89.335844,\n",
       "  'state': 'WI',\n",
       "  'stars': 4.0,\n",
       "  'latitude': 43.238893,\n",
       "  'attributes': {'Take-out': True,\n",
       "   'Good For': {'dessert': False,\n",
       "    'latenight': False,\n",
       "    'lunch': True,\n",
       "    'dinner': False,\n",
       "    'breakfast': False,\n",
       "    'brunch': False},\n",
       "   'Caters': False,\n",
       "   'Noise Level': 'average',\n",
       "   'Takes Reservations': False,\n",
       "   'Delivery': False,\n",
       "   'Ambience': {'romantic': False,\n",
       "    'intimate': False,\n",
       "    'touristy': False,\n",
       "    'hipster': False,\n",
       "    'divey': False,\n",
       "    'classy': False,\n",
       "    'trendy': False,\n",
       "    'upscale': False,\n",
       "    'casual': False},\n",
       "   'Parking': {'garage': False,\n",
       "    'street': False,\n",
       "    'validated': False,\n",
       "    'lot': True,\n",
       "    'valet': False},\n",
       "   'Has TV': True,\n",
       "   'Outdoor Seating': False,\n",
       "   'Attire': 'casual',\n",
       "   'Alcohol': 'none',\n",
       "   'Waiter Service': True,\n",
       "   'Accepts Credit Cards': True,\n",
       "   'Good for Kids': True,\n",
       "   'Good For Groups': True,\n",
       "   'Price Range': 1},\n",
       "  'type': 'business'},\n",
       " {'business_id': 'uGykseHzyS5xAMWoN6YUqA',\n",
       "  'full_address': '505 W North St\\nDe Forest, WI 53532',\n",
       "  'hours': {'Monday': {'close': '22:00', 'open': '06:00'},\n",
       "   'Tuesday': {'close': '22:00', 'open': '06:00'},\n",
       "   'Friday': {'close': '22:00', 'open': '06:00'},\n",
       "   'Wednesday': {'close': '22:00', 'open': '06:00'},\n",
       "   'Thursday': {'close': '22:00', 'open': '06:00'},\n",
       "   'Sunday': {'close': '21:00', 'open': '06:00'},\n",
       "   'Saturday': {'close': '22:00', 'open': '06:00'}},\n",
       "  'open': True,\n",
       "  'categories': ['American (Traditional)', 'Restaurants'],\n",
       "  'city': 'De Forest',\n",
       "  'review_count': 16,\n",
       "  'name': 'Deforest Family Restaurant',\n",
       "  'neighborhoods': [],\n",
       "  'longitude': -89.353437,\n",
       "  'state': 'WI',\n",
       "  'stars': 4.0,\n",
       "  'latitude': 43.252267,\n",
       "  'attributes': {'Take-out': True,\n",
       "   'Good For': {'dessert': False,\n",
       "    'latenight': False,\n",
       "    'lunch': False,\n",
       "    'dinner': False,\n",
       "    'breakfast': False,\n",
       "    'brunch': True},\n",
       "   'Caters': False,\n",
       "   'Noise Level': 'quiet',\n",
       "   'Takes Reservations': False,\n",
       "   'Delivery': False,\n",
       "   'Parking': {'garage': False,\n",
       "    'street': False,\n",
       "    'validated': False,\n",
       "    'lot': True,\n",
       "    'valet': False},\n",
       "   'Has TV': True,\n",
       "   'Outdoor Seating': False,\n",
       "   'Attire': 'casual',\n",
       "   'Ambience': {'romantic': False,\n",
       "    'intimate': False,\n",
       "    'touristy': False,\n",
       "    'hipster': False,\n",
       "    'divey': False,\n",
       "    'classy': False,\n",
       "    'trendy': False,\n",
       "    'upscale': False,\n",
       "    'casual': True},\n",
       "   'Waiter Service': True,\n",
       "   'Accepts Credit Cards': True,\n",
       "   'Good for Kids': True,\n",
       "   'Good For Groups': True,\n",
       "   'Price Range': 1},\n",
       "  'type': 'business'},\n",
       " {'business_id': 'LRKJF43s9-3jG9Lgx4zODg',\n",
       "  'full_address': '4910 County Rd V\\nDe Forest, WI 53532',\n",
       "  'hours': {'Monday': {'close': '22:00', 'open': '10:30'},\n",
       "   'Tuesday': {'close': '22:00', 'open': '10:30'},\n",
       "   'Friday': {'close': '22:00', 'open': '10:30'},\n",
       "   'Wednesday': {'close': '22:00', 'open': '10:30'},\n",
       "   'Thursday': {'close': '22:00', 'open': '10:30'},\n",
       "   'Sunday': {'close': '22:00', 'open': '10:30'},\n",
       "   'Saturday': {'close': '22:00', 'open': '10:30'}},\n",
       "  'open': True,\n",
       "  'categories': ['Food',\n",
       "   'Ice Cream & Frozen Yogurt',\n",
       "   'Fast Food',\n",
       "   'Restaurants'],\n",
       "  'city': 'De Forest',\n",
       "  'review_count': 7,\n",
       "  'name': \"Culver's\",\n",
       "  'neighborhoods': [],\n",
       "  'longitude': -89.374983,\n",
       "  'state': 'WI',\n",
       "  'stars': 4.5,\n",
       "  'latitude': 43.251045,\n",
       "  'attributes': {'Take-out': True,\n",
       "   'Wi-Fi': 'free',\n",
       "   'Takes Reservations': False,\n",
       "   'Delivery': False,\n",
       "   'Parking': {'garage': False,\n",
       "    'street': False,\n",
       "    'validated': False,\n",
       "    'lot': True,\n",
       "    'valet': False},\n",
       "   'Wheelchair Accessible': True,\n",
       "   'Attire': 'casual',\n",
       "   'Accepts Credit Cards': True,\n",
       "   'Good For Groups': True,\n",
       "   'Price Range': 1},\n",
       "  'type': 'business'},\n",
       " {'business_id': 'RgDg-k9S5YD_BaxMckifkg',\n",
       "  'full_address': '631 S Main St\\nDe Forest, WI 53532',\n",
       "  'hours': {'Monday': {'close': '22:00', 'open': '11:00'},\n",
       "   'Tuesday': {'close': '22:00', 'open': '11:00'},\n",
       "   'Friday': {'close': '22:30', 'open': '11:00'},\n",
       "   'Wednesday': {'close': '22:00', 'open': '11:00'},\n",
       "   'Thursday': {'close': '22:00', 'open': '11:00'},\n",
       "   'Sunday': {'close': '21:00', 'open': '16:00'},\n",
       "   'Saturday': {'close': '22:30', 'open': '11:00'}},\n",
       "  'open': True,\n",
       "  'categories': ['Chinese', 'Restaurants'],\n",
       "  'city': 'De Forest',\n",
       "  'review_count': 3,\n",
       "  'name': 'Chang Jiang Chinese Kitchen',\n",
       "  'neighborhoods': [],\n",
       "  'longitude': -89.3437217,\n",
       "  'state': 'WI',\n",
       "  'stars': 4.0,\n",
       "  'latitude': 43.2408748,\n",
       "  'attributes': {'Take-out': True,\n",
       "   'Has TV': False,\n",
       "   'Outdoor Seating': False,\n",
       "   'Attire': 'casual'},\n",
       "  'type': 'business'},\n",
       " {'business_id': 'oLctHIA1AxmsgOuu4dM6Vw',\n",
       "  'full_address': '4156 County Rd B\\nMc Farland, WI 53558',\n",
       "  'hours': {},\n",
       "  'open': False,\n",
       "  'categories': ['Television Stations', 'Mass Media'],\n",
       "  'city': 'Mc Farland',\n",
       "  'review_count': 10,\n",
       "  'name': 'Charter Communications',\n",
       "  'neighborhoods': [],\n",
       "  'longitude': -89.3229199,\n",
       "  'state': 'WI',\n",
       "  'stars': 1.5,\n",
       "  'latitude': 42.9685074,\n",
       "  'attributes': {},\n",
       "  'type': 'business'},\n",
       " {'business_id': 'ZW2WeP2Hp20tq0RG1NFkoQ',\n",
       "  'full_address': '4709 Triangle St\\nMc Farland, WI 53558',\n",
       "  'hours': {},\n",
       "  'open': True,\n",
       "  'categories': ['Home Services', 'Heating & Air Conditioning/HVAC'],\n",
       "  'city': 'Mc Farland',\n",
       "  'review_count': 4,\n",
       "  'name': 'Air Quality Systems',\n",
       "  'neighborhoods': [],\n",
       "  'longitude': -89.2985442,\n",
       "  'state': 'WI',\n",
       "  'stars': 2.0,\n",
       "  'latitude': 43.0303561,\n",
       "  'attributes': {},\n",
       "  'type': 'business'},\n",
       " {'business_id': '95p9Xg358BezJyk1wqzzyg',\n",
       "  'full_address': '5114 Farwell St\\nMc Farland, WI 53558',\n",
       "  'hours': {'Monday': {'close': '20:00', 'open': '09:00'},\n",
       "   'Tuesday': {'close': '20:00', 'open': '09:00'},\n",
       "   'Friday': {'close': '17:30', 'open': '09:00'},\n",
       "   'Wednesday': {'close': '20:00', 'open': '09:00'},\n",
       "   'Thursday': {'close': '20:00', 'open': '09:00'},\n",
       "   'Sunday': {'close': '15:00', 'open': '12:00'},\n",
       "   'Saturday': {'close': '17:30', 'open': '09:00'}},\n",
       "  'open': True,\n",
       "  'categories': ['Libraries', 'Public Services & Government'],\n",
       "  'city': 'Mc Farland',\n",
       "  'review_count': 4,\n",
       "  'name': 'McFarland Public Library',\n",
       "  'neighborhoods': [],\n",
       "  'longitude': -89.294175,\n",
       "  'state': 'WI',\n",
       "  'stars': 2.5,\n",
       "  'latitude': 43.014093,\n",
       "  'attributes': {'Wi-Fi': 'free'},\n",
       "  'type': 'business'},\n",
       " {'business_id': 'ZlhAvs_6ryi4_efZ1SpMbg',\n",
       "  'full_address': '4811 Larson Beach Rd\\nMc Farland, WI 53558',\n",
       "  'hours': {'Monday': {'close': '18:00', 'open': '07:30'},\n",
       "   'Tuesday': {'close': '18:00', 'open': '07:30'},\n",
       "   'Friday': {'close': '18:00', 'open': '07:30'},\n",
       "   'Wednesday': {'close': '18:00', 'open': '07:30'},\n",
       "   'Thursday': {'close': '18:00', 'open': '07:30'},\n",
       "   'Saturday': {'close': '12:00', 'open': '08:00'}},\n",
       "  'open': True,\n",
       "  'categories': ['Veterinarians', 'Pets'],\n",
       "  'city': 'Mc Farland',\n",
       "  'review_count': 3,\n",
       "  'name': 'Spartan Animal Hospital',\n",
       "  'neighborhoods': [],\n",
       "  'longitude': -89.299119,\n",
       "  'state': 'WI',\n",
       "  'stars': 4.5,\n",
       "  'latitude': 43.017124,\n",
       "  'attributes': {},\n",
       "  'type': 'business'},\n",
       " {'business_id': '_wZTYYL7cutanzAnJUTGMA',\n",
       "  'full_address': '4506 Larson Beach Rd\\nMc Farland, WI 53558',\n",
       "  'hours': {},\n",
       "  'open': True,\n",
       "  'categories': ['Bars',\n",
       "   'American (Traditional)',\n",
       "   'Nightlife',\n",
       "   'Lounges',\n",
       "   'Restaurants'],\n",
       "  'city': 'Mc Farland',\n",
       "  'review_count': 31,\n",
       "  'name': 'Beach House Restaurant & Lounge',\n",
       "  'neighborhoods': [],\n",
       "  'longitude': -89.303789,\n",
       "  'state': 'WI',\n",
       "  'stars': 3.5,\n",
       "  'latitude': 43.017701,\n",
       "  'attributes': {'Alcohol': 'full_bar',\n",
       "   'Noise Level': 'loud',\n",
       "   'Music': {},\n",
       "   'Attire': 'casual',\n",
       "   'Ambience': {'romantic': False,\n",
       "    'intimate': False,\n",
       "    'touristy': False,\n",
       "    'hipster': False,\n",
       "    'divey': False,\n",
       "    'classy': False,\n",
       "    'trendy': False,\n",
       "    'upscale': False,\n",
       "    'casual': True},\n",
       "   'Good for Kids': True,\n",
       "   'Wheelchair Accessible': True,\n",
       "   'Good For Dancing': False,\n",
       "   'Delivery': False,\n",
       "   'Coat Check': False,\n",
       "   'Smoking': 'outdoor',\n",
       "   'Accepts Credit Cards': True,\n",
       "   'Take-out': True,\n",
       "   'Price Range': 2,\n",
       "   'Happy Hour': True,\n",
       "   'Outdoor Seating': True,\n",
       "   'Takes Reservations': True,\n",
       "   'Waiter Service': True,\n",
       "   'Wi-Fi': 'no',\n",
       "   'Caters': False,\n",
       "   'Good For': {'dessert': False,\n",
       "    'latenight': False,\n",
       "    'lunch': False,\n",
       "    'dinner': True,\n",
       "    'breakfast': False,\n",
       "    'brunch': False},\n",
       "   'Parking': {'garage': False,\n",
       "    'street': False,\n",
       "    'validated': False,\n",
       "    'lot': True,\n",
       "    'valet': False},\n",
       "   'Has TV': True,\n",
       "   'Good For Groups': True},\n",
       "  'type': 'business'}]"
      ]
     },
     "execution_count": 19,
     "metadata": {},
     "output_type": "execute_result"
    }
   ],
   "source": [
    "data[0:10]"
   ]
  },
  {
   "cell_type": "markdown",
   "metadata": {
    "slideshow": null
   },
   "source": [
    "In scikit-learn, the labels to be predicted, in this case, the stars, are always kept in a separate data structure than the features. Let's get in this habit now, by creating a separate list of the ratings."
   ]
  },
  {
   "cell_type": "code",
   "execution_count": 20,
   "metadata": {
    "slideshow": null
   },
   "outputs": [
    {
     "data": {
      "text/plain": [
       "37938"
      ]
     },
     "execution_count": 20,
     "metadata": {},
     "output_type": "execute_result"
    }
   ],
   "source": [
    "import numpy as np\n",
    "import pandas as pd\n",
    "star_ratings = [row['stars'] for row in data]\n",
    "\n",
    "len(star_ratings)"
   ]
  },
  {
   "cell_type": "code",
   "execution_count": 21,
   "metadata": {},
   "outputs": [
    {
     "data": {
      "text/plain": [
       "3.6729137013021247"
      ]
     },
     "execution_count": 21,
     "metadata": {},
     "output_type": "execute_result"
    }
   ],
   "source": [
    "import statistics\n",
    "\n",
    "x = statistics.mean(star_ratings)\n",
    "x"
   ]
  },
  {
   "cell_type": "markdown",
   "metadata": {
    "slideshow": null
   },
   "source": [
    "## City Average"
   ]
  },
  {
   "cell_type": "markdown",
   "metadata": {
    "slideshow": null
   },
   "source": [
    "The venues belong to different cities.  You can imagine that the ratings in some cities are probably higher than others.  We wish to build an estimator to make a prediction based on this, but first we need to work out the average rating for each city.  For this problem, create a list of tuples (city name, star rating), one for each city in the data set. There are many ways to do this; please feel free to experiment on your own.  If you get stuck, the steps below attempt to guide you through the process.\n",
    "\n",
    "A simple approach is to go through all of the dictionaries in our array, calculating the sum of the star ratings and the number of venues for each city. At the end, we can just divide the stars by the count to get the average. We could create a separate sum and count variable for each city, but that will get tedious quickly. A better approach is to create a dictionary for each. The key will be the city name, and the value the running sum or running count.\n",
    "\n",
    "One slight annoyance of this approach is that we will have to test whether a key exists in the dictionary before adding to the running tally.  The `collections` module's `defaultdict` class works around this by providing default values for keys that haven't been used. Thus, if we do"
   ]
  },
  {
   "cell_type": "code",
   "execution_count": 22,
   "metadata": {
    "slideshow": null
   },
   "outputs": [],
   "source": [
    "from collections import defaultdict\n",
    "\n",
    "star_sum = defaultdict(int)\n",
    "count = defaultdict(int)"
   ]
  },
  {
   "cell_type": "code",
   "execution_count": 23,
   "metadata": {
    "slideshow": null
   },
   "outputs": [],
   "source": [
    "for row, stars in zip(data, star_ratings):\n",
    "    # increment the running sum in star_sum\n",
    "        \n",
    "    count[row['city']]+=1\n",
    "    star_sum[row['city']]+=stars"
   ]
  },
  {
   "cell_type": "code",
   "execution_count": 24,
   "metadata": {},
   "outputs": [
    {
     "data": {
      "text/plain": [
       "'Phoenix'"
      ]
     },
     "execution_count": 24,
     "metadata": {},
     "output_type": "execute_result"
    }
   ],
   "source": [
    "data[0]['city']"
   ]
  },
  {
   "cell_type": "code",
   "execution_count": 25,
   "metadata": {},
   "outputs": [
    {
     "data": {
      "text/plain": [
       "{'Phoenix': 24646.0,\n",
       " 'De Forest': 22.5,\n",
       " 'Mc Farland': 31.0,\n",
       " 'Middleton': 487.5,\n",
       " 'Madison': 5341.0,\n",
       " 'Sun Prairie': 231.5,\n",
       " 'Windsor': 21.0,\n",
       " 'Monona': 191.0,\n",
       " 'Chandler': 5384.0,\n",
       " 'Scottsdale': 12325.5,\n",
       " 'Tempe': 6640.5,\n",
       " 'Florence': 61.5,\n",
       " 'Peoria': 1939.5,\n",
       " 'Glendale': 3946.5,\n",
       " 'Cave Creek': 512.5,\n",
       " 'Paradise Valley': 260.5,\n",
       " 'Mesa': 6631.0,\n",
       " 'Ahwatukee': 29.5,\n",
       " 'Pheonix': 6.0,\n",
       " 'Anthem': 208.0,\n",
       " 'Gilbert': 3523.5,\n",
       " 'Gold Canyon': 98.0,\n",
       " 'Apache Junction': 291.0,\n",
       " 'Goldfield': 3.5,\n",
       " 'Casa Grande': 306.0,\n",
       " 'Coolidge': 27.5,\n",
       " 'Higley': 35.0,\n",
       " 'Queen Creek': 663.5,\n",
       " 'Sun Lakes': 29.0,\n",
       " 'Goodyear': 957.0,\n",
       " 'Fort Mcdowell': 8.0,\n",
       " 'Fountain Hills': 398.0,\n",
       " 'Fountain Hls': 3.0,\n",
       " 'Maricopa': 264.0,\n",
       " 'chandler': 5.0,\n",
       " 'Buckeye': 242.0,\n",
       " 'Litchfield Park': 222.0,\n",
       " 'Tonopah': 15.0,\n",
       " 'Surprise': 1273.0,\n",
       " 'Wickenburg': 164.5,\n",
       " 'Sedona': 3.5,\n",
       " 'Henderson': 6417.0,\n",
       " 'Las Vegas': 39621.0,\n",
       " 'North Las Vegas': 1595.5,\n",
       " 'N Las Vegas': 28.5,\n",
       " 'N. Las Vegas': 6.5,\n",
       " 'C Las Vegas': 3.0,\n",
       " 'Sunrise': 3.0,\n",
       " 'Las Vegas ': 18.0,\n",
       " 'Cottage Grove': 29.0,\n",
       " 'Dane': 8.5,\n",
       " 'Fitchburg': 284.0,\n",
       " 'Stoughton': 7.5,\n",
       " 'Verona': 119.5,\n",
       " 'Waunakee': 70.0,\n",
       " 'Trempealeau': 4.0,\n",
       " 'New River': 21.5,\n",
       " 'Avondale': 824.5,\n",
       " 'Rio Verde': 12.0,\n",
       " 'Guadalupe': 24.0,\n",
       " 'El Mirage': 111.0,\n",
       " 'Sun City': 248.5,\n",
       " 'Tolleson': 155.0,\n",
       " 'Carefree': 140.0,\n",
       " 'Gila Bend': 54.0,\n",
       " 'Laveen': 187.0,\n",
       " 'Youngtown': 54.0,\n",
       " 'Sun City West': 58.0,\n",
       " 'Boulder City': 91.0,\n",
       " 'Nellis Air Force Base': 3.0,\n",
       " 'Nellis AFB': 38.0,\n",
       " 'Green Valley': 4.0,\n",
       " 'North Scottsdale': 4.0,\n",
       " 'Litchfield Park ': 4.5,\n",
       " 'Nellis Afb': 6.5,\n",
       " 'Summerlin': 4.0,\n",
       " 'San Tan Valley': 120.0,\n",
       " 'Tortilla Flat': 12.5,\n",
       " 'Mesa ': 3.0,\n",
       " 'Fort McDowell': 23.5,\n",
       " 'Morristown': 10.5,\n",
       " 'Waddell': 11.5,\n",
       " 'W Henderson': 3.5,\n",
       " 'Las Vegas, NV 89147': 2.5,\n",
       " 'Las Vegas East': 4.5,\n",
       " 'DeForest': 20.5,\n",
       " 'Paradise': 55.5,\n",
       " 'Stanfield': 3.5,\n",
       " 'Atlanta': 3.5,\n",
       " 'Newberry Springs': 3.5,\n",
       " 'St Clements': 4.5,\n",
       " 'Waterloo': 530.0,\n",
       " 'Kitchener': 429.0,\n",
       " 'Cambridge': 21.0,\n",
       " 'Edinburgh': 9851.5,\n",
       " 'Musselburgh': 35.5,\n",
       " 'South Queensferry': 39.0,\n",
       " 'Roslin': 4.5,\n",
       " 'Dalkeith': 13.0,\n",
       " 'Loanhead': 19.0,\n",
       " 'Lasswade': 10.0,\n",
       " 'Penicuik': 4.0,\n",
       " 'Bonnyrigg': 7.5,\n",
       " 'Ratho': 3.0,\n",
       " 'St Jacobs': 7.0,\n",
       " 'Arcadia': 5.0,\n",
       " 'Tonto Basin': 11.5,\n",
       " 'Queensferry': 11.5,\n",
       " 'Spring Valley': 24.5,\n",
       " 'Enterprise': 29.0,\n",
       " 'McFarland': 22.0,\n",
       " 'Rochester': 5.0,\n",
       " 'North Las Vegas ': 3.5,\n",
       " 'N E Las Vegas': 5.0,\n",
       " 'N W Las Vegas': 3.5,\n",
       " 'Heidelberg': 2.5,\n",
       " 'Central Henderson': 3.5,\n",
       " 'Saguaro Lake': 3.0,\n",
       " 'Cramond': 8.5,\n",
       " 'Leith': 4.0,\n",
       " 'W Spring Valley': 3.0,\n",
       " 'North Queensferry': 3.5,\n",
       " 'Inverkeithing': 3.0,\n",
       " 'Portobello': 7.5,\n",
       " 'Water of Leith': 4.5,\n",
       " 'Centennial Hills': 3.0,\n",
       " 'Woolwich': 8.5,\n",
       " 'Victoria Park': 4.5,\n",
       " 'Juniper Green': 11.5,\n",
       " 'W Summerlin': 3.5,\n",
       " 'Lake Las Vegas': 4.5,\n",
       " 'Henderson ': 4.0,\n",
       " 'Straiton': 2.5,\n",
       " 'Deforest': 5.0,\n",
       " 'Summerlin South': 6.5,\n",
       " 'Sun City Anthem': 3.0,\n",
       " 'Clark County': 12.0,\n",
       " 'Phoenix ': 1.0,\n",
       " 'Glendale Az': 4.0,\n",
       " 'Mcfarland': 3.5,\n",
       " 'Newbridge': 4.5,\n",
       " 'Sunrise Manor': 3.0,\n",
       " 'Midlothian': 13.5,\n",
       " 'Henderson and Las vegas': 4.0,\n",
       " 'NELLIS AFB': 4.5,\n",
       " 'Surprise Crossing': 4.5,\n",
       " 'South Las Vegas': 4.5,\n",
       " 'Black Canyon City': 3.0,\n",
       " 'Fort Kinnaird': 4.5,\n",
       " 'Chandler-Gilbert': 5.0,\n",
       " 'Phoenix Sky Harbor Center': 3.5,\n",
       " 'Eagan': 5.0,\n",
       " 'Stockbridge': 9.0,\n",
       " 'New York': 5.0,\n",
       " 'City of Edinburgh': 3.0,\n",
       " 'South Gyle': 2.5,\n",
       " 'Central City Village': 12.5,\n",
       " 'New Town': 11.0,\n",
       " 'Scotland': 3.5,\n",
       " 'London': 3.0,\n",
       " 'Whitney': 4.5,\n",
       " 'St. Jacobs': 4.5,\n",
       " 'Old Town': 4.0,\n",
       " 'Newington': 3.0,\n",
       " 'Scottsdale, Phoenix, Chandler, Gilbert': 5.0,\n",
       " 'Henderson (Stephanie)': 4.0,\n",
       " 'Henderson (Green  Valley)': 4.0}"
      ]
     },
     "execution_count": 25,
     "metadata": {},
     "output_type": "execute_result"
    }
   ],
   "source": [
    "y_dict = {}\n",
    "for k, v in star_sum.items():\n",
    "    y_dict[k] = v\n",
    "y_dict"
   ]
  },
  {
   "cell_type": "code",
   "execution_count": 26,
   "metadata": {},
   "outputs": [
    {
     "data": {
      "text/plain": [
       "{'Phoenix': 6715,\n",
       " 'De Forest': 6,\n",
       " 'Mc Farland': 10,\n",
       " 'Middleton': 135,\n",
       " 'Madison': 1465,\n",
       " 'Sun Prairie': 67,\n",
       " 'Windsor': 6,\n",
       " 'Monona': 55,\n",
       " 'Chandler': 1468,\n",
       " 'Scottsdale': 3226,\n",
       " 'Tempe': 1822,\n",
       " 'Florence': 17,\n",
       " 'Peoria': 533,\n",
       " 'Glendale': 1094,\n",
       " 'Cave Creek': 131,\n",
       " 'Paradise Valley': 71,\n",
       " 'Mesa': 1847,\n",
       " 'Ahwatukee': 8,\n",
       " 'Pheonix': 2,\n",
       " 'Anthem': 55,\n",
       " 'Gilbert': 939,\n",
       " 'Gold Canyon': 28,\n",
       " 'Apache Junction': 80,\n",
       " 'Goldfield': 1,\n",
       " 'Casa Grande': 87,\n",
       " 'Coolidge': 8,\n",
       " 'Higley': 10,\n",
       " 'Queen Creek': 182,\n",
       " 'Sun Lakes': 9,\n",
       " 'Goodyear': 271,\n",
       " 'Fort Mcdowell': 2,\n",
       " 'Fountain Hills': 105,\n",
       " 'Fountain Hls': 1,\n",
       " 'Maricopa': 75,\n",
       " 'chandler': 1,\n",
       " 'Buckeye': 71,\n",
       " 'Litchfield Park': 60,\n",
       " 'Tonopah': 4,\n",
       " 'Surprise': 356,\n",
       " 'Wickenburg': 45,\n",
       " 'Sedona': 1,\n",
       " 'Henderson': 1740,\n",
       " 'Las Vegas': 10851,\n",
       " 'North Las Vegas': 463,\n",
       " 'N Las Vegas': 8,\n",
       " 'N. Las Vegas': 2,\n",
       " 'C Las Vegas': 1,\n",
       " 'Sunrise': 1,\n",
       " 'Las Vegas ': 5,\n",
       " 'Cottage Grove': 9,\n",
       " 'Dane': 2,\n",
       " 'Fitchburg': 82,\n",
       " 'Stoughton': 2,\n",
       " 'Verona': 31,\n",
       " 'Waunakee': 21,\n",
       " 'Trempealeau': 1,\n",
       " 'New River': 6,\n",
       " 'Avondale': 233,\n",
       " 'Rio Verde': 3,\n",
       " 'Guadalupe': 6,\n",
       " 'El Mirage': 30,\n",
       " 'Sun City': 70,\n",
       " 'Tolleson': 48,\n",
       " 'Carefree': 36,\n",
       " 'Gila Bend': 16,\n",
       " 'Laveen': 56,\n",
       " 'Youngtown': 14,\n",
       " 'Sun City West': 16,\n",
       " 'Boulder City': 22,\n",
       " 'Nellis Air Force Base': 1,\n",
       " 'Nellis AFB': 9,\n",
       " 'Green Valley': 1,\n",
       " 'North Scottsdale': 1,\n",
       " 'Litchfield Park ': 1,\n",
       " 'Nellis Afb': 2,\n",
       " 'Summerlin': 1,\n",
       " 'San Tan Valley': 31,\n",
       " 'Tortilla Flat': 3,\n",
       " 'Mesa ': 1,\n",
       " 'Fort McDowell': 7,\n",
       " 'Morristown': 3,\n",
       " 'Waddell': 3,\n",
       " 'W Henderson': 1,\n",
       " 'Las Vegas, NV 89147': 1,\n",
       " 'Las Vegas East': 1,\n",
       " 'DeForest': 5,\n",
       " 'Paradise': 16,\n",
       " 'Stanfield': 1,\n",
       " 'Atlanta': 1,\n",
       " 'Newberry Springs': 1,\n",
       " 'St Clements': 1,\n",
       " 'Waterloo': 147,\n",
       " 'Kitchener': 116,\n",
       " 'Cambridge': 5,\n",
       " 'Edinburgh': 2595,\n",
       " 'Musselburgh': 10,\n",
       " 'South Queensferry': 10,\n",
       " 'Roslin': 1,\n",
       " 'Dalkeith': 3,\n",
       " 'Loanhead': 5,\n",
       " 'Lasswade': 3,\n",
       " 'Penicuik': 1,\n",
       " 'Bonnyrigg': 2,\n",
       " 'Ratho': 1,\n",
       " 'St Jacobs': 2,\n",
       " 'Arcadia': 1,\n",
       " 'Tonto Basin': 3,\n",
       " 'Queensferry': 3,\n",
       " 'Spring Valley': 7,\n",
       " 'Enterprise': 9,\n",
       " 'McFarland': 5,\n",
       " 'Rochester': 1,\n",
       " 'North Las Vegas ': 1,\n",
       " 'N E Las Vegas': 1,\n",
       " 'N W Las Vegas': 1,\n",
       " 'Heidelberg': 1,\n",
       " 'Central Henderson': 1,\n",
       " 'Saguaro Lake': 1,\n",
       " 'Cramond': 2,\n",
       " 'Leith': 1,\n",
       " 'W Spring Valley': 1,\n",
       " 'North Queensferry': 1,\n",
       " 'Inverkeithing': 1,\n",
       " 'Portobello': 2,\n",
       " 'Water of Leith': 1,\n",
       " 'Centennial Hills': 1,\n",
       " 'Woolwich': 2,\n",
       " 'Victoria Park': 1,\n",
       " 'Juniper Green': 3,\n",
       " 'W Summerlin': 1,\n",
       " 'Lake Las Vegas': 1,\n",
       " 'Henderson ': 1,\n",
       " 'Straiton': 1,\n",
       " 'Deforest': 1,\n",
       " 'Summerlin South': 2,\n",
       " 'Sun City Anthem': 1,\n",
       " 'Clark County': 4,\n",
       " 'Phoenix ': 1,\n",
       " 'Glendale Az': 1,\n",
       " 'Mcfarland': 1,\n",
       " 'Newbridge': 1,\n",
       " 'Sunrise Manor': 1,\n",
       " 'Midlothian': 3,\n",
       " 'Henderson and Las vegas': 1,\n",
       " 'NELLIS AFB': 1,\n",
       " 'Surprise Crossing': 1,\n",
       " 'South Las Vegas': 1,\n",
       " 'Black Canyon City': 1,\n",
       " 'Fort Kinnaird': 1,\n",
       " 'Chandler-Gilbert': 1,\n",
       " 'Phoenix Sky Harbor Center': 1,\n",
       " 'Eagan': 1,\n",
       " 'Stockbridge': 2,\n",
       " 'New York': 1,\n",
       " 'City of Edinburgh': 1,\n",
       " 'South Gyle': 1,\n",
       " 'Central City Village': 4,\n",
       " 'New Town': 3,\n",
       " 'Scotland': 1,\n",
       " 'London': 1,\n",
       " 'Whitney': 1,\n",
       " 'St. Jacobs': 1,\n",
       " 'Old Town': 1,\n",
       " 'Newington': 1,\n",
       " 'Scottsdale, Phoenix, Chandler, Gilbert': 1,\n",
       " 'Henderson (Stephanie)': 1,\n",
       " 'Henderson (Green  Valley)': 1}"
      ]
     },
     "execution_count": 26,
     "metadata": {},
     "output_type": "execute_result"
    }
   ],
   "source": [
    "x_dict = {}\n",
    "for k, v in count.items():\n",
    "    x_dict[k] = v\n",
    "x_dict"
   ]
  },
  {
   "cell_type": "code",
   "execution_count": 27,
   "metadata": {},
   "outputs": [
    {
     "data": {
      "text/plain": [
       "{'Phoenix': 24646.0,\n",
       " 'De Forest': 22.5,\n",
       " 'Mc Farland': 31.0,\n",
       " 'Middleton': 487.5,\n",
       " 'Madison': 5341.0,\n",
       " 'Sun Prairie': 231.5,\n",
       " 'Windsor': 21.0,\n",
       " 'Monona': 191.0,\n",
       " 'Chandler': 5384.0,\n",
       " 'Scottsdale': 12325.5,\n",
       " 'Tempe': 6640.5,\n",
       " 'Florence': 61.5,\n",
       " 'Peoria': 1939.5,\n",
       " 'Glendale': 3946.5,\n",
       " 'Cave Creek': 512.5,\n",
       " 'Paradise Valley': 260.5,\n",
       " 'Mesa': 6631.0,\n",
       " 'Ahwatukee': 29.5,\n",
       " 'Pheonix': 6.0,\n",
       " 'Anthem': 208.0,\n",
       " 'Gilbert': 3523.5,\n",
       " 'Gold Canyon': 98.0,\n",
       " 'Apache Junction': 291.0,\n",
       " 'Goldfield': 3.5,\n",
       " 'Casa Grande': 306.0,\n",
       " 'Coolidge': 27.5,\n",
       " 'Higley': 35.0,\n",
       " 'Queen Creek': 663.5,\n",
       " 'Sun Lakes': 29.0,\n",
       " 'Goodyear': 957.0,\n",
       " 'Fort Mcdowell': 8.0,\n",
       " 'Fountain Hills': 398.0,\n",
       " 'Fountain Hls': 3.0,\n",
       " 'Maricopa': 264.0,\n",
       " 'chandler': 5.0,\n",
       " 'Buckeye': 242.0,\n",
       " 'Litchfield Park': 222.0,\n",
       " 'Tonopah': 15.0,\n",
       " 'Surprise': 1273.0,\n",
       " 'Wickenburg': 164.5,\n",
       " 'Sedona': 3.5,\n",
       " 'Henderson': 6417.0,\n",
       " 'Las Vegas': 39621.0,\n",
       " 'North Las Vegas': 1595.5,\n",
       " 'N Las Vegas': 28.5,\n",
       " 'N. Las Vegas': 6.5,\n",
       " 'C Las Vegas': 3.0,\n",
       " 'Sunrise': 3.0,\n",
       " 'Las Vegas ': 18.0,\n",
       " 'Cottage Grove': 29.0,\n",
       " 'Dane': 8.5,\n",
       " 'Fitchburg': 284.0,\n",
       " 'Stoughton': 7.5,\n",
       " 'Verona': 119.5,\n",
       " 'Waunakee': 70.0,\n",
       " 'Trempealeau': 4.0,\n",
       " 'New River': 21.5,\n",
       " 'Avondale': 824.5,\n",
       " 'Rio Verde': 12.0,\n",
       " 'Guadalupe': 24.0,\n",
       " 'El Mirage': 111.0,\n",
       " 'Sun City': 248.5,\n",
       " 'Tolleson': 155.0,\n",
       " 'Carefree': 140.0,\n",
       " 'Gila Bend': 54.0,\n",
       " 'Laveen': 187.0,\n",
       " 'Youngtown': 54.0,\n",
       " 'Sun City West': 58.0,\n",
       " 'Boulder City': 91.0,\n",
       " 'Nellis Air Force Base': 3.0,\n",
       " 'Nellis AFB': 38.0,\n",
       " 'Green Valley': 4.0,\n",
       " 'North Scottsdale': 4.0,\n",
       " 'Litchfield Park ': 4.5,\n",
       " 'Nellis Afb': 6.5,\n",
       " 'Summerlin': 4.0,\n",
       " 'San Tan Valley': 120.0,\n",
       " 'Tortilla Flat': 12.5,\n",
       " 'Mesa ': 3.0,\n",
       " 'Fort McDowell': 23.5,\n",
       " 'Morristown': 10.5,\n",
       " 'Waddell': 11.5,\n",
       " 'W Henderson': 3.5,\n",
       " 'Las Vegas, NV 89147': 2.5,\n",
       " 'Las Vegas East': 4.5,\n",
       " 'DeForest': 20.5,\n",
       " 'Paradise': 55.5,\n",
       " 'Stanfield': 3.5,\n",
       " 'Atlanta': 3.5,\n",
       " 'Newberry Springs': 3.5,\n",
       " 'St Clements': 4.5,\n",
       " 'Waterloo': 530.0,\n",
       " 'Kitchener': 429.0,\n",
       " 'Cambridge': 21.0,\n",
       " 'Edinburgh': 9851.5,\n",
       " 'Musselburgh': 35.5,\n",
       " 'South Queensferry': 39.0,\n",
       " 'Roslin': 4.5,\n",
       " 'Dalkeith': 13.0,\n",
       " 'Loanhead': 19.0,\n",
       " 'Lasswade': 10.0,\n",
       " 'Penicuik': 4.0,\n",
       " 'Bonnyrigg': 7.5,\n",
       " 'Ratho': 3.0,\n",
       " 'St Jacobs': 7.0,\n",
       " 'Arcadia': 5.0,\n",
       " 'Tonto Basin': 11.5,\n",
       " 'Queensferry': 11.5,\n",
       " 'Spring Valley': 24.5,\n",
       " 'Enterprise': 29.0,\n",
       " 'McFarland': 22.0,\n",
       " 'Rochester': 5.0,\n",
       " 'North Las Vegas ': 3.5,\n",
       " 'N E Las Vegas': 5.0,\n",
       " 'N W Las Vegas': 3.5,\n",
       " 'Heidelberg': 2.5,\n",
       " 'Central Henderson': 3.5,\n",
       " 'Saguaro Lake': 3.0,\n",
       " 'Cramond': 8.5,\n",
       " 'Leith': 4.0,\n",
       " 'W Spring Valley': 3.0,\n",
       " 'North Queensferry': 3.5,\n",
       " 'Inverkeithing': 3.0,\n",
       " 'Portobello': 7.5,\n",
       " 'Water of Leith': 4.5,\n",
       " 'Centennial Hills': 3.0,\n",
       " 'Woolwich': 8.5,\n",
       " 'Victoria Park': 4.5,\n",
       " 'Juniper Green': 11.5,\n",
       " 'W Summerlin': 3.5,\n",
       " 'Lake Las Vegas': 4.5,\n",
       " 'Henderson ': 4.0,\n",
       " 'Straiton': 2.5,\n",
       " 'Deforest': 5.0,\n",
       " 'Summerlin South': 6.5,\n",
       " 'Sun City Anthem': 3.0,\n",
       " 'Clark County': 12.0,\n",
       " 'Phoenix ': 1.0,\n",
       " 'Glendale Az': 4.0,\n",
       " 'Mcfarland': 3.5,\n",
       " 'Newbridge': 4.5,\n",
       " 'Sunrise Manor': 3.0,\n",
       " 'Midlothian': 13.5,\n",
       " 'Henderson and Las vegas': 4.0,\n",
       " 'NELLIS AFB': 4.5,\n",
       " 'Surprise Crossing': 4.5,\n",
       " 'South Las Vegas': 4.5,\n",
       " 'Black Canyon City': 3.0,\n",
       " 'Fort Kinnaird': 4.5,\n",
       " 'Chandler-Gilbert': 5.0,\n",
       " 'Phoenix Sky Harbor Center': 3.5,\n",
       " 'Eagan': 5.0,\n",
       " 'Stockbridge': 9.0,\n",
       " 'New York': 5.0,\n",
       " 'City of Edinburgh': 3.0,\n",
       " 'South Gyle': 2.5,\n",
       " 'Central City Village': 12.5,\n",
       " 'New Town': 11.0,\n",
       " 'Scotland': 3.5,\n",
       " 'London': 3.0,\n",
       " 'Whitney': 4.5,\n",
       " 'St. Jacobs': 4.5,\n",
       " 'Old Town': 4.0,\n",
       " 'Newington': 3.0,\n",
       " 'Scottsdale, Phoenix, Chandler, Gilbert': 5.0,\n",
       " 'Henderson (Stephanie)': 4.0,\n",
       " 'Henderson (Green  Valley)': 4.0}"
      ]
     },
     "execution_count": 27,
     "metadata": {},
     "output_type": "execute_result"
    }
   ],
   "source": [
    "y_dict = {}\n",
    "for k, v in star_sum.items():\n",
    "    y_dict[k] = v\n",
    "y_dict"
   ]
  },
  {
   "cell_type": "code",
   "execution_count": 28,
   "metadata": {},
   "outputs": [],
   "source": [
    "d = list(y_dict.items())\n",
    "e = list(x_dict.items())"
   ]
  },
  {
   "cell_type": "markdown",
   "metadata": {
    "slideshow": null
   },
   "source": [
    "we can increment any key of `star_sum` or `count` without first worrying whether the key exists. We need to go through the `data` and `star_ratings` list together, which we can do with the `zip` function."
   ]
  },
  {
   "cell_type": "code",
   "execution_count": 29,
   "metadata": {},
   "outputs": [
    {
     "data": {
      "text/plain": [
       "167"
      ]
     },
     "execution_count": 29,
     "metadata": {},
     "output_type": "execute_result"
    }
   ],
   "source": [
    "len(y_dict)"
   ]
  },
  {
   "cell_type": "markdown",
   "metadata": {
    "slideshow": null
   },
   "source": [
    "Now we can calculate the average ratings.  Again, a dictionary makes a good container."
   ]
  },
  {
   "cell_type": "code",
   "execution_count": 30,
   "metadata": {},
   "outputs": [],
   "source": [
    "avg_stars = dict()\n",
    "for k, v in zip(d, e):\n",
    "    avg_stars[k[0]] = k[1]/v[1]"
   ]
  },
  {
   "cell_type": "code",
   "execution_count": 31,
   "metadata": {},
   "outputs": [
    {
     "data": {
      "text/plain": [
       "{'Phoenix': 3.6702903946388683,\n",
       " 'De Forest': 3.75,\n",
       " 'Mc Farland': 3.1,\n",
       " 'Middleton': 3.611111111111111,\n",
       " 'Madison': 3.6457337883959045,\n",
       " 'Sun Prairie': 3.455223880597015,\n",
       " 'Windsor': 3.5,\n",
       " 'Monona': 3.4727272727272727,\n",
       " 'Chandler': 3.667574931880109,\n",
       " 'Scottsdale': 3.8206757594544327,\n",
       " 'Tempe': 3.644621295279912,\n",
       " 'Florence': 3.6176470588235294,\n",
       " 'Peoria': 3.6388367729831144,\n",
       " 'Glendale': 3.607404021937843,\n",
       " 'Cave Creek': 3.9122137404580153,\n",
       " 'Paradise Valley': 3.6690140845070425,\n",
       " 'Mesa': 3.5901461829994585,\n",
       " 'Ahwatukee': 3.6875,\n",
       " 'Pheonix': 3.0,\n",
       " 'Anthem': 3.7818181818181817,\n",
       " 'Gilbert': 3.752396166134185,\n",
       " 'Gold Canyon': 3.5,\n",
       " 'Apache Junction': 3.6375,\n",
       " 'Goldfield': 3.5,\n",
       " 'Casa Grande': 3.5172413793103448,\n",
       " 'Coolidge': 3.4375,\n",
       " 'Higley': 3.5,\n",
       " 'Queen Creek': 3.6456043956043955,\n",
       " 'Sun Lakes': 3.2222222222222223,\n",
       " 'Goodyear': 3.5313653136531364,\n",
       " 'Fort Mcdowell': 4.0,\n",
       " 'Fountain Hills': 3.7904761904761903,\n",
       " 'Fountain Hls': 3.0,\n",
       " 'Maricopa': 3.52,\n",
       " 'chandler': 5.0,\n",
       " 'Buckeye': 3.408450704225352,\n",
       " 'Litchfield Park': 3.7,\n",
       " 'Tonopah': 3.75,\n",
       " 'Surprise': 3.5758426966292136,\n",
       " 'Wickenburg': 3.6555555555555554,\n",
       " 'Sedona': 3.5,\n",
       " 'Henderson': 3.6879310344827587,\n",
       " 'Las Vegas': 3.651368537461985,\n",
       " 'North Las Vegas': 3.4460043196544277,\n",
       " 'N Las Vegas': 3.5625,\n",
       " 'N. Las Vegas': 3.25,\n",
       " 'C Las Vegas': 3.0,\n",
       " 'Sunrise': 3.0,\n",
       " 'Las Vegas ': 3.6,\n",
       " 'Cottage Grove': 3.2222222222222223,\n",
       " 'Dane': 4.25,\n",
       " 'Fitchburg': 3.4634146341463414,\n",
       " 'Stoughton': 3.75,\n",
       " 'Verona': 3.8548387096774195,\n",
       " 'Waunakee': 3.3333333333333335,\n",
       " 'Trempealeau': 4.0,\n",
       " 'New River': 3.5833333333333335,\n",
       " 'Avondale': 3.53862660944206,\n",
       " 'Rio Verde': 4.0,\n",
       " 'Guadalupe': 4.0,\n",
       " 'El Mirage': 3.7,\n",
       " 'Sun City': 3.55,\n",
       " 'Tolleson': 3.2291666666666665,\n",
       " 'Carefree': 3.888888888888889,\n",
       " 'Gila Bend': 3.375,\n",
       " 'Laveen': 3.3392857142857144,\n",
       " 'Youngtown': 3.857142857142857,\n",
       " 'Sun City West': 3.625,\n",
       " 'Boulder City': 4.136363636363637,\n",
       " 'Nellis Air Force Base': 3.0,\n",
       " 'Nellis AFB': 4.222222222222222,\n",
       " 'Green Valley': 4.0,\n",
       " 'North Scottsdale': 4.0,\n",
       " 'Litchfield Park ': 4.5,\n",
       " 'Nellis Afb': 3.25,\n",
       " 'Summerlin': 4.0,\n",
       " 'San Tan Valley': 3.870967741935484,\n",
       " 'Tortilla Flat': 4.166666666666667,\n",
       " 'Mesa ': 3.0,\n",
       " 'Fort McDowell': 3.357142857142857,\n",
       " 'Morristown': 3.5,\n",
       " 'Waddell': 3.8333333333333335,\n",
       " 'W Henderson': 3.5,\n",
       " 'Las Vegas, NV 89147': 2.5,\n",
       " 'Las Vegas East': 4.5,\n",
       " 'DeForest': 4.1,\n",
       " 'Paradise': 3.46875,\n",
       " 'Stanfield': 3.5,\n",
       " 'Atlanta': 3.5,\n",
       " 'Newberry Springs': 3.5,\n",
       " 'St Clements': 4.5,\n",
       " 'Waterloo': 3.6054421768707483,\n",
       " 'Kitchener': 3.6982758620689653,\n",
       " 'Cambridge': 4.2,\n",
       " 'Edinburgh': 3.7963391136801543,\n",
       " 'Musselburgh': 3.55,\n",
       " 'South Queensferry': 3.9,\n",
       " 'Roslin': 4.5,\n",
       " 'Dalkeith': 4.333333333333333,\n",
       " 'Loanhead': 3.8,\n",
       " 'Lasswade': 3.3333333333333335,\n",
       " 'Penicuik': 4.0,\n",
       " 'Bonnyrigg': 3.75,\n",
       " 'Ratho': 3.0,\n",
       " 'St Jacobs': 3.5,\n",
       " 'Arcadia': 5.0,\n",
       " 'Tonto Basin': 3.8333333333333335,\n",
       " 'Queensferry': 3.8333333333333335,\n",
       " 'Spring Valley': 3.5,\n",
       " 'Enterprise': 3.2222222222222223,\n",
       " 'McFarland': 4.4,\n",
       " 'Rochester': 5.0,\n",
       " 'North Las Vegas ': 3.5,\n",
       " 'N E Las Vegas': 5.0,\n",
       " 'N W Las Vegas': 3.5,\n",
       " 'Heidelberg': 2.5,\n",
       " 'Central Henderson': 3.5,\n",
       " 'Saguaro Lake': 3.0,\n",
       " 'Cramond': 4.25,\n",
       " 'Leith': 4.0,\n",
       " 'W Spring Valley': 3.0,\n",
       " 'North Queensferry': 3.5,\n",
       " 'Inverkeithing': 3.0,\n",
       " 'Portobello': 3.75,\n",
       " 'Water of Leith': 4.5,\n",
       " 'Centennial Hills': 3.0,\n",
       " 'Woolwich': 4.25,\n",
       " 'Victoria Park': 4.5,\n",
       " 'Juniper Green': 3.8333333333333335,\n",
       " 'W Summerlin': 3.5,\n",
       " 'Lake Las Vegas': 4.5,\n",
       " 'Henderson ': 4.0,\n",
       " 'Straiton': 2.5,\n",
       " 'Deforest': 5.0,\n",
       " 'Summerlin South': 3.25,\n",
       " 'Sun City Anthem': 3.0,\n",
       " 'Clark County': 3.0,\n",
       " 'Phoenix ': 1.0,\n",
       " 'Glendale Az': 4.0,\n",
       " 'Mcfarland': 3.5,\n",
       " 'Newbridge': 4.5,\n",
       " 'Sunrise Manor': 3.0,\n",
       " 'Midlothian': 4.5,\n",
       " 'Henderson and Las vegas': 4.0,\n",
       " 'NELLIS AFB': 4.5,\n",
       " 'Surprise Crossing': 4.5,\n",
       " 'South Las Vegas': 4.5,\n",
       " 'Black Canyon City': 3.0,\n",
       " 'Fort Kinnaird': 4.5,\n",
       " 'Chandler-Gilbert': 5.0,\n",
       " 'Phoenix Sky Harbor Center': 3.5,\n",
       " 'Eagan': 5.0,\n",
       " 'Stockbridge': 4.5,\n",
       " 'New York': 5.0,\n",
       " 'City of Edinburgh': 3.0,\n",
       " 'South Gyle': 2.5,\n",
       " 'Central City Village': 3.125,\n",
       " 'New Town': 3.6666666666666665,\n",
       " 'Scotland': 3.5,\n",
       " 'London': 3.0,\n",
       " 'Whitney': 4.5,\n",
       " 'St. Jacobs': 4.5,\n",
       " 'Old Town': 4.0,\n",
       " 'Newington': 3.0,\n",
       " 'Scottsdale, Phoenix, Chandler, Gilbert': 5.0,\n",
       " 'Henderson (Stephanie)': 4.0,\n",
       " 'Henderson (Green  Valley)': 4.0}"
      ]
     },
     "execution_count": 31,
     "metadata": {},
     "output_type": "execute_result"
    }
   ],
   "source": [
    "avg_stars"
   ]
  },
  {
   "cell_type": "code",
   "execution_count": 33,
   "metadata": {},
   "outputs": [
    {
     "data": {
      "text/plain": [
       "3.6875"
      ]
     },
     "execution_count": 33,
     "metadata": {},
     "output_type": "execute_result"
    }
   ],
   "source": [
    "avg_stars['Ahwatukee']"
   ]
  },
  {
   "cell_type": "code",
   "execution_count": 34,
   "metadata": {},
   "outputs": [
    {
     "data": {
      "text/plain": [
       "dict_keys(['Phoenix', 'De Forest', 'Mc Farland', 'Middleton', 'Madison', 'Sun Prairie', 'Windsor', 'Monona', 'Chandler', 'Scottsdale', 'Tempe', 'Florence', 'Peoria', 'Glendale', 'Cave Creek', 'Paradise Valley', 'Mesa', 'Ahwatukee', 'Pheonix', 'Anthem', 'Gilbert', 'Gold Canyon', 'Apache Junction', 'Goldfield', 'Casa Grande', 'Coolidge', 'Higley', 'Queen Creek', 'Sun Lakes', 'Goodyear', 'Fort Mcdowell', 'Fountain Hills', 'Fountain Hls', 'Maricopa', 'chandler', 'Buckeye', 'Litchfield Park', 'Tonopah', 'Surprise', 'Wickenburg', 'Sedona', 'Henderson', 'Las Vegas', 'North Las Vegas', 'N Las Vegas', 'N. Las Vegas', 'C Las Vegas', 'Sunrise', 'Las Vegas ', 'Cottage Grove', 'Dane', 'Fitchburg', 'Stoughton', 'Verona', 'Waunakee', 'Trempealeau', 'New River', 'Avondale', 'Rio Verde', 'Guadalupe', 'El Mirage', 'Sun City', 'Tolleson', 'Carefree', 'Gila Bend', 'Laveen', 'Youngtown', 'Sun City West', 'Boulder City', 'Nellis Air Force Base', 'Nellis AFB', 'Green Valley', 'North Scottsdale', 'Litchfield Park ', 'Nellis Afb', 'Summerlin', 'San Tan Valley', 'Tortilla Flat', 'Mesa ', 'Fort McDowell', 'Morristown', 'Waddell', 'W Henderson', 'Las Vegas, NV 89147', 'Las Vegas East', 'DeForest', 'Paradise', 'Stanfield', 'Atlanta', 'Newberry Springs', 'St Clements', 'Waterloo', 'Kitchener', 'Cambridge', 'Edinburgh', 'Musselburgh', 'South Queensferry', 'Roslin', 'Dalkeith', 'Loanhead', 'Lasswade', 'Penicuik', 'Bonnyrigg', 'Ratho', 'St Jacobs', 'Arcadia', 'Tonto Basin', 'Queensferry', 'Spring Valley', 'Enterprise', 'McFarland', 'Rochester', 'North Las Vegas ', 'N E Las Vegas', 'N W Las Vegas', 'Heidelberg', 'Central Henderson', 'Saguaro Lake', 'Cramond', 'Leith', 'W Spring Valley', 'North Queensferry', 'Inverkeithing', 'Portobello', 'Water of Leith', 'Centennial Hills', 'Woolwich', 'Victoria Park', 'Juniper Green', 'W Summerlin', 'Lake Las Vegas', 'Henderson ', 'Straiton', 'Deforest', 'Summerlin South', 'Sun City Anthem', 'Clark County', 'Phoenix ', 'Glendale Az', 'Mcfarland', 'Newbridge', 'Sunrise Manor', 'Midlothian', 'Henderson and Las vegas', 'NELLIS AFB', 'Surprise Crossing', 'South Las Vegas', 'Black Canyon City', 'Fort Kinnaird', 'Chandler-Gilbert', 'Phoenix Sky Harbor Center', 'Eagan', 'Stockbridge', 'New York', 'City of Edinburgh', 'South Gyle', 'Central City Village', 'New Town', 'Scotland', 'London', 'Whitney', 'St. Jacobs', 'Old Town', 'Newington', 'Scottsdale, Phoenix, Chandler, Gilbert', 'Henderson (Stephanie)', 'Henderson (Green  Valley)'])"
      ]
     },
     "execution_count": 34,
     "metadata": {},
     "output_type": "execute_result"
    }
   ],
   "source": [
    "avg_stars.keys()"
   ]
  },
  {
   "cell_type": "code",
   "execution_count": 35,
   "metadata": {},
   "outputs": [
    {
     "data": {
      "text/plain": [
       "3.6875"
      ]
     },
     "execution_count": 35,
     "metadata": {},
     "output_type": "execute_result"
    }
   ],
   "source": [
    "lat_long = avg_stars['Ahwatukee']\n",
    "lat_long"
   ]
  },
  {
   "cell_type": "markdown",
   "metadata": {
    "slideshow": null
   },
   "source": [
    "## City Model"
   ]
  },
  {
   "cell_type": "markdown",
   "metadata": {
    "slideshow": null
   },
   "source": [
    "Now, let's build a custom estimator that will make a prediction based solely on the city of a venue.  It is tempting to hard-code the answers from the previous section into this model, but we're going to resist and do things properly.\n",
    "\n",
    "This custom estimator will have a `fit` method.  It will receive `data` as its argument `X` and `star_ratings` as `y`, and should repeat the calculation of the previous problem there.  Then the `predict` method can look up the average rating for the city of each record it receives."
   ]
  },
  {
   "cell_type": "code",
   "execution_count": 36,
   "metadata": {},
   "outputs": [
    {
     "data": {
      "text/plain": [
       "dict_keys(['business_id', 'full_address', 'hours', 'open', 'categories', 'city', 'review_count', 'name', 'neighborhoods', 'longitude', 'state', 'stars', 'latitude', 'attributes', 'type'])"
      ]
     },
     "execution_count": 36,
     "metadata": {},
     "output_type": "execute_result"
    }
   ],
   "source": [
    "data[0].keys()"
   ]
  },
  {
   "cell_type": "code",
   "execution_count": 37,
   "metadata": {},
   "outputs": [],
   "source": [
    "listss = []\n",
    "\n",
    "listss.append(0)"
   ]
  },
  {
   "cell_type": "code",
   "execution_count": 38,
   "metadata": {},
   "outputs": [
    {
     "data": {
      "text/plain": [
       "[0]"
      ]
     },
     "execution_count": 38,
     "metadata": {},
     "output_type": "execute_result"
    }
   ],
   "source": [
    "listss"
   ]
  },
  {
   "cell_type": "code",
   "execution_count": 39,
   "metadata": {
    "slideshow": null
   },
   "outputs": [],
   "source": [
    "from sklearn.base import BaseEstimator, RegressorMixin\n",
    "\n",
    "# fit method will receive data as its argument X and star_ratings as y, \n",
    "# and should repeat the calculation of the previous problem there. \n",
    "\n",
    "# Then the predict method can look up the average rating for the city of each record it receives.\n",
    "\n",
    "class CityRegressor(BaseEstimator, RegressorMixin):\n",
    "    \n",
    "    def __init__(self):\n",
    "        self.avg_stars = dict()\n",
    "    \n",
    "    def fit(self, X, y):\n",
    "        from collections import defaultdict\n",
    "        star_sum = defaultdict(int)\n",
    "        count = defaultdict(int)\n",
    "        \n",
    "        for row, stars in zip(X, y):\n",
    "            count[row['city']]+=1\n",
    "            star_sum[row['city']]+=stars\n",
    "        \n",
    "        x_dict = {}\n",
    "        for k, v in count.items():\n",
    "            x_dict[k] = v\n",
    "    \n",
    "        y_dict = {}\n",
    "        for k, v in count.items():\n",
    "            y_dict[k] = v\n",
    "\n",
    "        return self\n",
    "            \n",
    "    def predict(self, X):\n",
    "        listov = []\n",
    "        for i in X:\n",
    "            if i['city'] not in avg_stars.keys(): \n",
    "                listov.append(0)\n",
    "            else:\n",
    "                listov.append(avg_stars[i['city']])\n",
    "        return listov\n",
    "    "
   ]
  },
  {
   "cell_type": "code",
   "execution_count": null,
   "metadata": {},
   "outputs": [],
   "source": [
    "city_model = CityRegressor()\n",
    "city_model.fit_transform(data, star_ratings)"
   ]
  },
  {
   "cell_type": "markdown",
   "metadata": {
    "slideshow": null
   },
   "source": [
    "Now we can create an instance of our regressor and train it."
   ]
  },
  {
   "cell_type": "code",
   "execution_count": 41,
   "metadata": {
    "slideshow": null
   },
   "outputs": [
    {
     "data": {
      "text/plain": [
       "CityRegressor()"
      ]
     },
     "execution_count": 41,
     "metadata": {},
     "output_type": "execute_result"
    }
   ],
   "source": [
    "city_model = CityRegressor()\n",
    "city_model.fit(data, star_ratings)"
   ]
  },
  {
   "cell_type": "code",
   "execution_count": 42,
   "metadata": {},
   "outputs": [
    {
     "data": {
      "text/plain": [
       "3.6702903946388683"
      ]
     },
     "execution_count": 42,
     "metadata": {},
     "output_type": "execute_result"
    }
   ],
   "source": [
    "avg_stars[data[0]['city']]"
   ]
  },
  {
   "cell_type": "markdown",
   "metadata": {
    "slideshow": null
   },
   "source": [
    "And let's see if it works."
   ]
  },
  {
   "cell_type": "code",
   "execution_count": 36,
   "metadata": {
    "slideshow": null
   },
   "outputs": [
    {
     "data": {
      "text/plain": [
       "array([3.67029039, 3.75      , 3.75      , 3.75      , 3.75      ])"
      ]
     },
     "execution_count": 36,
     "metadata": {},
     "output_type": "execute_result"
    }
   ],
   "source": [
    "np.array(city_model.predict(data[:5]))"
   ]
  },
  {
   "cell_type": "markdown",
   "metadata": {
    "slideshow": null
   },
   "source": [
    "There is a problem, however.  What happens if we're asked to estimate the rating of a venue in a city that's not in our training set?"
   ]
  },
  {
   "cell_type": "code",
   "execution_count": 37,
   "metadata": {
    "slideshow": null
   },
   "outputs": [
    {
     "data": {
      "text/plain": [
       "[3.6702903946388683, 0, 3.6457337883959045]"
      ]
     },
     "execution_count": 37,
     "metadata": {},
     "output_type": "execute_result"
    }
   ],
   "source": [
    "city_model.predict([{'city': 'Phoenix'}, {'city': 'Timbuktu'}, {'city': 'Madison'}])"
   ]
  },
  {
   "cell_type": "markdown",
   "metadata": {
    "slideshow": null
   },
   "source": [
    "Your model should always return a number, even if the city was not in the training data. "
   ]
  },
  {
   "cell_type": "markdown",
   "metadata": {
    "slideshow": null
   },
   "source": [
    "## Lat_Long Model"
   ]
  },
  {
   "cell_type": "markdown",
   "metadata": {
    "slideshow": null
   },
   "source": [
    "You can imagine that a city-based model might not be sufficiently fine-grained. For example, we know that some neighborhoods are trendier than others.  Use the latitude and longitude of a venue as features that help you understand neighborhood dynamics.\n",
    "\n",
    "Since we need to select the appropriate columns from our dictionaries to build our latitude-longitude model, we will have to use scikit-learn's [`ColumnTransformer`](https://scikit-learn.org/stable/modules/generated/sklearn.compose.ColumnTransformer.html). However, the `ColumnTransformer` works with either NumPy arrays or pandas data frames. Thus, our first estimator in our workflow should be a transformer that converts a list of dictionaries into a pandas data frame."
   ]
  },
  {
   "cell_type": "code",
   "execution_count": 43,
   "metadata": {
    "slideshow": null
   },
   "outputs": [],
   "source": [
    "import pandas as pd\n",
    "from sklearn.base import TransformerMixin\n",
    "\n",
    "class ToDataFrame(BaseEstimator, TransformerMixin):\n",
    "    def fit(self, X, y=None):\n",
    "        # This transformer doesn't need to learn anything about the data,\n",
    "        # so it can just return self without any further processing\n",
    "        return self\n",
    "    \n",
    "    def transform(self, X):\n",
    "        # Return a pandas data frame from X\n",
    "        df = pd.DataFrame(X)\n",
    "        return df"
   ]
  },
  {
   "cell_type": "code",
   "execution_count": 45,
   "metadata": {},
   "outputs": [
    {
     "data": {
      "text/plain": [
       "[{'business_id': 'vcNAWiLM4dR7D2nwwJ7nCA',\n",
       "  'full_address': '4840 E Indian School Rd\\nSte 101\\nPhoenix, AZ 85018',\n",
       "  'hours': {'Tuesday': {'close': '17:00', 'open': '08:00'},\n",
       "   'Friday': {'close': '17:00', 'open': '08:00'},\n",
       "   'Monday': {'close': '17:00', 'open': '08:00'},\n",
       "   'Wednesday': {'close': '17:00', 'open': '08:00'},\n",
       "   'Thursday': {'close': '17:00', 'open': '08:00'}},\n",
       "  'open': True,\n",
       "  'categories': ['Doctors', 'Health & Medical'],\n",
       "  'city': 'Phoenix',\n",
       "  'review_count': 7,\n",
       "  'name': 'Eric Goldberg, MD',\n",
       "  'neighborhoods': [],\n",
       "  'longitude': -111.983758,\n",
       "  'state': 'AZ',\n",
       "  'stars': 3.5,\n",
       "  'latitude': 33.499313,\n",
       "  'attributes': {'By Appointment Only': True},\n",
       "  'type': 'business'},\n",
       " {'business_id': 'JwUE5GmEO-sH1FuwJgKBlQ',\n",
       "  'full_address': '6162 US Highway 51\\nDe Forest, WI 53532',\n",
       "  'hours': {},\n",
       "  'open': True,\n",
       "  'categories': ['Restaurants'],\n",
       "  'city': 'De Forest',\n",
       "  'review_count': 26,\n",
       "  'name': 'Pine Cone Restaurant',\n",
       "  'neighborhoods': [],\n",
       "  'longitude': -89.335844,\n",
       "  'state': 'WI',\n",
       "  'stars': 4.0,\n",
       "  'latitude': 43.238893,\n",
       "  'attributes': {'Take-out': True,\n",
       "   'Good For': {'dessert': False,\n",
       "    'latenight': False,\n",
       "    'lunch': True,\n",
       "    'dinner': False,\n",
       "    'breakfast': False,\n",
       "    'brunch': False},\n",
       "   'Caters': False,\n",
       "   'Noise Level': 'average',\n",
       "   'Takes Reservations': False,\n",
       "   'Delivery': False,\n",
       "   'Ambience': {'romantic': False,\n",
       "    'intimate': False,\n",
       "    'touristy': False,\n",
       "    'hipster': False,\n",
       "    'divey': False,\n",
       "    'classy': False,\n",
       "    'trendy': False,\n",
       "    'upscale': False,\n",
       "    'casual': False},\n",
       "   'Parking': {'garage': False,\n",
       "    'street': False,\n",
       "    'validated': False,\n",
       "    'lot': True,\n",
       "    'valet': False},\n",
       "   'Has TV': True,\n",
       "   'Outdoor Seating': False,\n",
       "   'Attire': 'casual',\n",
       "   'Alcohol': 'none',\n",
       "   'Waiter Service': True,\n",
       "   'Accepts Credit Cards': True,\n",
       "   'Good for Kids': True,\n",
       "   'Good For Groups': True,\n",
       "   'Price Range': 1},\n",
       "  'type': 'business'},\n",
       " {'business_id': 'uGykseHzyS5xAMWoN6YUqA',\n",
       "  'full_address': '505 W North St\\nDe Forest, WI 53532',\n",
       "  'hours': {'Monday': {'close': '22:00', 'open': '06:00'},\n",
       "   'Tuesday': {'close': '22:00', 'open': '06:00'},\n",
       "   'Friday': {'close': '22:00', 'open': '06:00'},\n",
       "   'Wednesday': {'close': '22:00', 'open': '06:00'},\n",
       "   'Thursday': {'close': '22:00', 'open': '06:00'},\n",
       "   'Sunday': {'close': '21:00', 'open': '06:00'},\n",
       "   'Saturday': {'close': '22:00', 'open': '06:00'}},\n",
       "  'open': True,\n",
       "  'categories': ['American (Traditional)', 'Restaurants'],\n",
       "  'city': 'De Forest',\n",
       "  'review_count': 16,\n",
       "  'name': 'Deforest Family Restaurant',\n",
       "  'neighborhoods': [],\n",
       "  'longitude': -89.353437,\n",
       "  'state': 'WI',\n",
       "  'stars': 4.0,\n",
       "  'latitude': 43.252267,\n",
       "  'attributes': {'Take-out': True,\n",
       "   'Good For': {'dessert': False,\n",
       "    'latenight': False,\n",
       "    'lunch': False,\n",
       "    'dinner': False,\n",
       "    'breakfast': False,\n",
       "    'brunch': True},\n",
       "   'Caters': False,\n",
       "   'Noise Level': 'quiet',\n",
       "   'Takes Reservations': False,\n",
       "   'Delivery': False,\n",
       "   'Parking': {'garage': False,\n",
       "    'street': False,\n",
       "    'validated': False,\n",
       "    'lot': True,\n",
       "    'valet': False},\n",
       "   'Has TV': True,\n",
       "   'Outdoor Seating': False,\n",
       "   'Attire': 'casual',\n",
       "   'Ambience': {'romantic': False,\n",
       "    'intimate': False,\n",
       "    'touristy': False,\n",
       "    'hipster': False,\n",
       "    'divey': False,\n",
       "    'classy': False,\n",
       "    'trendy': False,\n",
       "    'upscale': False,\n",
       "    'casual': True},\n",
       "   'Waiter Service': True,\n",
       "   'Accepts Credit Cards': True,\n",
       "   'Good for Kids': True,\n",
       "   'Good For Groups': True,\n",
       "   'Price Range': 1},\n",
       "  'type': 'business'},\n",
       " {'business_id': 'LRKJF43s9-3jG9Lgx4zODg',\n",
       "  'full_address': '4910 County Rd V\\nDe Forest, WI 53532',\n",
       "  'hours': {'Monday': {'close': '22:00', 'open': '10:30'},\n",
       "   'Tuesday': {'close': '22:00', 'open': '10:30'},\n",
       "   'Friday': {'close': '22:00', 'open': '10:30'},\n",
       "   'Wednesday': {'close': '22:00', 'open': '10:30'},\n",
       "   'Thursday': {'close': '22:00', 'open': '10:30'},\n",
       "   'Sunday': {'close': '22:00', 'open': '10:30'},\n",
       "   'Saturday': {'close': '22:00', 'open': '10:30'}},\n",
       "  'open': True,\n",
       "  'categories': ['Food',\n",
       "   'Ice Cream & Frozen Yogurt',\n",
       "   'Fast Food',\n",
       "   'Restaurants'],\n",
       "  'city': 'De Forest',\n",
       "  'review_count': 7,\n",
       "  'name': \"Culver's\",\n",
       "  'neighborhoods': [],\n",
       "  'longitude': -89.374983,\n",
       "  'state': 'WI',\n",
       "  'stars': 4.5,\n",
       "  'latitude': 43.251045,\n",
       "  'attributes': {'Take-out': True,\n",
       "   'Wi-Fi': 'free',\n",
       "   'Takes Reservations': False,\n",
       "   'Delivery': False,\n",
       "   'Parking': {'garage': False,\n",
       "    'street': False,\n",
       "    'validated': False,\n",
       "    'lot': True,\n",
       "    'valet': False},\n",
       "   'Wheelchair Accessible': True,\n",
       "   'Attire': 'casual',\n",
       "   'Accepts Credit Cards': True,\n",
       "   'Good For Groups': True,\n",
       "   'Price Range': 1},\n",
       "  'type': 'business'},\n",
       " {'business_id': 'RgDg-k9S5YD_BaxMckifkg',\n",
       "  'full_address': '631 S Main St\\nDe Forest, WI 53532',\n",
       "  'hours': {'Monday': {'close': '22:00', 'open': '11:00'},\n",
       "   'Tuesday': {'close': '22:00', 'open': '11:00'},\n",
       "   'Friday': {'close': '22:30', 'open': '11:00'},\n",
       "   'Wednesday': {'close': '22:00', 'open': '11:00'},\n",
       "   'Thursday': {'close': '22:00', 'open': '11:00'},\n",
       "   'Sunday': {'close': '21:00', 'open': '16:00'},\n",
       "   'Saturday': {'close': '22:30', 'open': '11:00'}},\n",
       "  'open': True,\n",
       "  'categories': ['Chinese', 'Restaurants'],\n",
       "  'city': 'De Forest',\n",
       "  'review_count': 3,\n",
       "  'name': 'Chang Jiang Chinese Kitchen',\n",
       "  'neighborhoods': [],\n",
       "  'longitude': -89.3437217,\n",
       "  'state': 'WI',\n",
       "  'stars': 4.0,\n",
       "  'latitude': 43.2408748,\n",
       "  'attributes': {'Take-out': True,\n",
       "   'Has TV': False,\n",
       "   'Outdoor Seating': False,\n",
       "   'Attire': 'casual'},\n",
       "  'type': 'business'}]"
      ]
     },
     "execution_count": 45,
     "metadata": {},
     "output_type": "execute_result"
    }
   ],
   "source": [
    "data[:5]"
   ]
  },
  {
   "cell_type": "code",
   "execution_count": 46,
   "metadata": {},
   "outputs": [
    {
     "data": {
      "text/html": [
       "<div>\n",
       "<style scoped>\n",
       "    .dataframe tbody tr th:only-of-type {\n",
       "        vertical-align: middle;\n",
       "    }\n",
       "\n",
       "    .dataframe tbody tr th {\n",
       "        vertical-align: top;\n",
       "    }\n",
       "\n",
       "    .dataframe thead th {\n",
       "        text-align: right;\n",
       "    }\n",
       "</style>\n",
       "<table border=\"1\" class=\"dataframe\">\n",
       "  <thead>\n",
       "    <tr style=\"text-align: right;\">\n",
       "      <th></th>\n",
       "      <th>business_id</th>\n",
       "      <th>full_address</th>\n",
       "      <th>hours</th>\n",
       "      <th>open</th>\n",
       "      <th>categories</th>\n",
       "      <th>city</th>\n",
       "      <th>review_count</th>\n",
       "      <th>name</th>\n",
       "      <th>neighborhoods</th>\n",
       "      <th>longitude</th>\n",
       "      <th>state</th>\n",
       "      <th>stars</th>\n",
       "      <th>latitude</th>\n",
       "      <th>attributes</th>\n",
       "      <th>type</th>\n",
       "    </tr>\n",
       "  </thead>\n",
       "  <tbody>\n",
       "    <tr>\n",
       "      <th>0</th>\n",
       "      <td>vcNAWiLM4dR7D2nwwJ7nCA</td>\n",
       "      <td>4840 E Indian School Rd\\nSte 101\\nPhoenix, AZ ...</td>\n",
       "      <td>{'Tuesday': {'close': '17:00', 'open': '08:00'...</td>\n",
       "      <td>True</td>\n",
       "      <td>[Doctors, Health &amp; Medical]</td>\n",
       "      <td>Phoenix</td>\n",
       "      <td>7</td>\n",
       "      <td>Eric Goldberg, MD</td>\n",
       "      <td>[]</td>\n",
       "      <td>-111.983758</td>\n",
       "      <td>AZ</td>\n",
       "      <td>3.5</td>\n",
       "      <td>33.499313</td>\n",
       "      <td>{'By Appointment Only': True}</td>\n",
       "      <td>business</td>\n",
       "    </tr>\n",
       "    <tr>\n",
       "      <th>1</th>\n",
       "      <td>JwUE5GmEO-sH1FuwJgKBlQ</td>\n",
       "      <td>6162 US Highway 51\\nDe Forest, WI 53532</td>\n",
       "      <td>{}</td>\n",
       "      <td>True</td>\n",
       "      <td>[Restaurants]</td>\n",
       "      <td>De Forest</td>\n",
       "      <td>26</td>\n",
       "      <td>Pine Cone Restaurant</td>\n",
       "      <td>[]</td>\n",
       "      <td>-89.335844</td>\n",
       "      <td>WI</td>\n",
       "      <td>4.0</td>\n",
       "      <td>43.238893</td>\n",
       "      <td>{'Take-out': True, 'Good For': {'dessert': Fal...</td>\n",
       "      <td>business</td>\n",
       "    </tr>\n",
       "    <tr>\n",
       "      <th>2</th>\n",
       "      <td>uGykseHzyS5xAMWoN6YUqA</td>\n",
       "      <td>505 W North St\\nDe Forest, WI 53532</td>\n",
       "      <td>{'Monday': {'close': '22:00', 'open': '06:00'}...</td>\n",
       "      <td>True</td>\n",
       "      <td>[American (Traditional), Restaurants]</td>\n",
       "      <td>De Forest</td>\n",
       "      <td>16</td>\n",
       "      <td>Deforest Family Restaurant</td>\n",
       "      <td>[]</td>\n",
       "      <td>-89.353437</td>\n",
       "      <td>WI</td>\n",
       "      <td>4.0</td>\n",
       "      <td>43.252267</td>\n",
       "      <td>{'Take-out': True, 'Good For': {'dessert': Fal...</td>\n",
       "      <td>business</td>\n",
       "    </tr>\n",
       "    <tr>\n",
       "      <th>3</th>\n",
       "      <td>LRKJF43s9-3jG9Lgx4zODg</td>\n",
       "      <td>4910 County Rd V\\nDe Forest, WI 53532</td>\n",
       "      <td>{'Monday': {'close': '22:00', 'open': '10:30'}...</td>\n",
       "      <td>True</td>\n",
       "      <td>[Food, Ice Cream &amp; Frozen Yogurt, Fast Food, R...</td>\n",
       "      <td>De Forest</td>\n",
       "      <td>7</td>\n",
       "      <td>Culver's</td>\n",
       "      <td>[]</td>\n",
       "      <td>-89.374983</td>\n",
       "      <td>WI</td>\n",
       "      <td>4.5</td>\n",
       "      <td>43.251045</td>\n",
       "      <td>{'Take-out': True, 'Wi-Fi': 'free', 'Takes Res...</td>\n",
       "      <td>business</td>\n",
       "    </tr>\n",
       "    <tr>\n",
       "      <th>4</th>\n",
       "      <td>RgDg-k9S5YD_BaxMckifkg</td>\n",
       "      <td>631 S Main St\\nDe Forest, WI 53532</td>\n",
       "      <td>{'Monday': {'close': '22:00', 'open': '11:00'}...</td>\n",
       "      <td>True</td>\n",
       "      <td>[Chinese, Restaurants]</td>\n",
       "      <td>De Forest</td>\n",
       "      <td>3</td>\n",
       "      <td>Chang Jiang Chinese Kitchen</td>\n",
       "      <td>[]</td>\n",
       "      <td>-89.343722</td>\n",
       "      <td>WI</td>\n",
       "      <td>4.0</td>\n",
       "      <td>43.240875</td>\n",
       "      <td>{'Take-out': True, 'Has TV': False, 'Outdoor S...</td>\n",
       "      <td>business</td>\n",
       "    </tr>\n",
       "  </tbody>\n",
       "</table>\n",
       "</div>"
      ],
      "text/plain": [
       "              business_id                                       full_address  \\\n",
       "0  vcNAWiLM4dR7D2nwwJ7nCA  4840 E Indian School Rd\\nSte 101\\nPhoenix, AZ ...   \n",
       "1  JwUE5GmEO-sH1FuwJgKBlQ            6162 US Highway 51\\nDe Forest, WI 53532   \n",
       "2  uGykseHzyS5xAMWoN6YUqA                505 W North St\\nDe Forest, WI 53532   \n",
       "3  LRKJF43s9-3jG9Lgx4zODg              4910 County Rd V\\nDe Forest, WI 53532   \n",
       "4  RgDg-k9S5YD_BaxMckifkg                 631 S Main St\\nDe Forest, WI 53532   \n",
       "\n",
       "                                               hours  open  \\\n",
       "0  {'Tuesday': {'close': '17:00', 'open': '08:00'...  True   \n",
       "1                                                 {}  True   \n",
       "2  {'Monday': {'close': '22:00', 'open': '06:00'}...  True   \n",
       "3  {'Monday': {'close': '22:00', 'open': '10:30'}...  True   \n",
       "4  {'Monday': {'close': '22:00', 'open': '11:00'}...  True   \n",
       "\n",
       "                                          categories       city  review_count  \\\n",
       "0                        [Doctors, Health & Medical]    Phoenix             7   \n",
       "1                                      [Restaurants]  De Forest            26   \n",
       "2              [American (Traditional), Restaurants]  De Forest            16   \n",
       "3  [Food, Ice Cream & Frozen Yogurt, Fast Food, R...  De Forest             7   \n",
       "4                             [Chinese, Restaurants]  De Forest             3   \n",
       "\n",
       "                          name neighborhoods   longitude state  stars  \\\n",
       "0            Eric Goldberg, MD            [] -111.983758    AZ    3.5   \n",
       "1         Pine Cone Restaurant            []  -89.335844    WI    4.0   \n",
       "2   Deforest Family Restaurant            []  -89.353437    WI    4.0   \n",
       "3                     Culver's            []  -89.374983    WI    4.5   \n",
       "4  Chang Jiang Chinese Kitchen            []  -89.343722    WI    4.0   \n",
       "\n",
       "    latitude                                         attributes      type  \n",
       "0  33.499313                      {'By Appointment Only': True}  business  \n",
       "1  43.238893  {'Take-out': True, 'Good For': {'dessert': Fal...  business  \n",
       "2  43.252267  {'Take-out': True, 'Good For': {'dessert': Fal...  business  \n",
       "3  43.251045  {'Take-out': True, 'Wi-Fi': 'free', 'Takes Res...  business  \n",
       "4  43.240875  {'Take-out': True, 'Has TV': False, 'Outdoor S...  business  "
      ]
     },
     "execution_count": 46,
     "metadata": {},
     "output_type": "execute_result"
    }
   ],
   "source": [
    "X_t"
   ]
  },
  {
   "cell_type": "code",
   "execution_count": 47,
   "metadata": {},
   "outputs": [
    {
     "data": {
      "text/html": [
       "<div>\n",
       "<style scoped>\n",
       "    .dataframe tbody tr th:only-of-type {\n",
       "        vertical-align: middle;\n",
       "    }\n",
       "\n",
       "    .dataframe tbody tr th {\n",
       "        vertical-align: top;\n",
       "    }\n",
       "\n",
       "    .dataframe thead th {\n",
       "        text-align: right;\n",
       "    }\n",
       "</style>\n",
       "<table border=\"1\" class=\"dataframe\">\n",
       "  <thead>\n",
       "    <tr style=\"text-align: right;\">\n",
       "      <th></th>\n",
       "      <th>business_id</th>\n",
       "      <th>full_address</th>\n",
       "      <th>hours</th>\n",
       "      <th>open</th>\n",
       "      <th>categories</th>\n",
       "      <th>city</th>\n",
       "      <th>review_count</th>\n",
       "      <th>name</th>\n",
       "      <th>neighborhoods</th>\n",
       "      <th>longitude</th>\n",
       "      <th>state</th>\n",
       "      <th>stars</th>\n",
       "      <th>latitude</th>\n",
       "      <th>attributes</th>\n",
       "      <th>type</th>\n",
       "    </tr>\n",
       "  </thead>\n",
       "  <tbody>\n",
       "    <tr>\n",
       "      <th>0</th>\n",
       "      <td>vcNAWiLM4dR7D2nwwJ7nCA</td>\n",
       "      <td>4840 E Indian School Rd\\nSte 101\\nPhoenix, AZ ...</td>\n",
       "      <td>{'Tuesday': {'close': '17:00', 'open': '08:00'...</td>\n",
       "      <td>True</td>\n",
       "      <td>[Doctors, Health &amp; Medical]</td>\n",
       "      <td>Phoenix</td>\n",
       "      <td>7</td>\n",
       "      <td>Eric Goldberg, MD</td>\n",
       "      <td>[]</td>\n",
       "      <td>-111.983758</td>\n",
       "      <td>AZ</td>\n",
       "      <td>3.5</td>\n",
       "      <td>33.499313</td>\n",
       "      <td>{'By Appointment Only': True}</td>\n",
       "      <td>business</td>\n",
       "    </tr>\n",
       "    <tr>\n",
       "      <th>1</th>\n",
       "      <td>JwUE5GmEO-sH1FuwJgKBlQ</td>\n",
       "      <td>6162 US Highway 51\\nDe Forest, WI 53532</td>\n",
       "      <td>{}</td>\n",
       "      <td>True</td>\n",
       "      <td>[Restaurants]</td>\n",
       "      <td>De Forest</td>\n",
       "      <td>26</td>\n",
       "      <td>Pine Cone Restaurant</td>\n",
       "      <td>[]</td>\n",
       "      <td>-89.335844</td>\n",
       "      <td>WI</td>\n",
       "      <td>4.0</td>\n",
       "      <td>43.238893</td>\n",
       "      <td>{'Take-out': True, 'Good For': {'dessert': Fal...</td>\n",
       "      <td>business</td>\n",
       "    </tr>\n",
       "    <tr>\n",
       "      <th>2</th>\n",
       "      <td>uGykseHzyS5xAMWoN6YUqA</td>\n",
       "      <td>505 W North St\\nDe Forest, WI 53532</td>\n",
       "      <td>{'Monday': {'close': '22:00', 'open': '06:00'}...</td>\n",
       "      <td>True</td>\n",
       "      <td>[American (Traditional), Restaurants]</td>\n",
       "      <td>De Forest</td>\n",
       "      <td>16</td>\n",
       "      <td>Deforest Family Restaurant</td>\n",
       "      <td>[]</td>\n",
       "      <td>-89.353437</td>\n",
       "      <td>WI</td>\n",
       "      <td>4.0</td>\n",
       "      <td>43.252267</td>\n",
       "      <td>{'Take-out': True, 'Good For': {'dessert': Fal...</td>\n",
       "      <td>business</td>\n",
       "    </tr>\n",
       "    <tr>\n",
       "      <th>3</th>\n",
       "      <td>LRKJF43s9-3jG9Lgx4zODg</td>\n",
       "      <td>4910 County Rd V\\nDe Forest, WI 53532</td>\n",
       "      <td>{'Monday': {'close': '22:00', 'open': '10:30'}...</td>\n",
       "      <td>True</td>\n",
       "      <td>[Food, Ice Cream &amp; Frozen Yogurt, Fast Food, R...</td>\n",
       "      <td>De Forest</td>\n",
       "      <td>7</td>\n",
       "      <td>Culver's</td>\n",
       "      <td>[]</td>\n",
       "      <td>-89.374983</td>\n",
       "      <td>WI</td>\n",
       "      <td>4.5</td>\n",
       "      <td>43.251045</td>\n",
       "      <td>{'Take-out': True, 'Wi-Fi': 'free', 'Takes Res...</td>\n",
       "      <td>business</td>\n",
       "    </tr>\n",
       "    <tr>\n",
       "      <th>4</th>\n",
       "      <td>RgDg-k9S5YD_BaxMckifkg</td>\n",
       "      <td>631 S Main St\\nDe Forest, WI 53532</td>\n",
       "      <td>{'Monday': {'close': '22:00', 'open': '11:00'}...</td>\n",
       "      <td>True</td>\n",
       "      <td>[Chinese, Restaurants]</td>\n",
       "      <td>De Forest</td>\n",
       "      <td>3</td>\n",
       "      <td>Chang Jiang Chinese Kitchen</td>\n",
       "      <td>[]</td>\n",
       "      <td>-89.343722</td>\n",
       "      <td>WI</td>\n",
       "      <td>4.0</td>\n",
       "      <td>43.240875</td>\n",
       "      <td>{'Take-out': True, 'Has TV': False, 'Outdoor S...</td>\n",
       "      <td>business</td>\n",
       "    </tr>\n",
       "  </tbody>\n",
       "</table>\n",
       "</div>"
      ],
      "text/plain": [
       "              business_id                                       full_address  \\\n",
       "0  vcNAWiLM4dR7D2nwwJ7nCA  4840 E Indian School Rd\\nSte 101\\nPhoenix, AZ ...   \n",
       "1  JwUE5GmEO-sH1FuwJgKBlQ            6162 US Highway 51\\nDe Forest, WI 53532   \n",
       "2  uGykseHzyS5xAMWoN6YUqA                505 W North St\\nDe Forest, WI 53532   \n",
       "3  LRKJF43s9-3jG9Lgx4zODg              4910 County Rd V\\nDe Forest, WI 53532   \n",
       "4  RgDg-k9S5YD_BaxMckifkg                 631 S Main St\\nDe Forest, WI 53532   \n",
       "\n",
       "                                               hours  open  \\\n",
       "0  {'Tuesday': {'close': '17:00', 'open': '08:00'...  True   \n",
       "1                                                 {}  True   \n",
       "2  {'Monday': {'close': '22:00', 'open': '06:00'}...  True   \n",
       "3  {'Monday': {'close': '22:00', 'open': '10:30'}...  True   \n",
       "4  {'Monday': {'close': '22:00', 'open': '11:00'}...  True   \n",
       "\n",
       "                                          categories       city  review_count  \\\n",
       "0                        [Doctors, Health & Medical]    Phoenix             7   \n",
       "1                                      [Restaurants]  De Forest            26   \n",
       "2              [American (Traditional), Restaurants]  De Forest            16   \n",
       "3  [Food, Ice Cream & Frozen Yogurt, Fast Food, R...  De Forest             7   \n",
       "4                             [Chinese, Restaurants]  De Forest             3   \n",
       "\n",
       "                          name neighborhoods   longitude state  stars  \\\n",
       "0            Eric Goldberg, MD            [] -111.983758    AZ    3.5   \n",
       "1         Pine Cone Restaurant            []  -89.335844    WI    4.0   \n",
       "2   Deforest Family Restaurant            []  -89.353437    WI    4.0   \n",
       "3                     Culver's            []  -89.374983    WI    4.5   \n",
       "4  Chang Jiang Chinese Kitchen            []  -89.343722    WI    4.0   \n",
       "\n",
       "    latitude                                         attributes      type  \n",
       "0  33.499313                      {'By Appointment Only': True}  business  \n",
       "1  43.238893  {'Take-out': True, 'Good For': {'dessert': Fal...  business  \n",
       "2  43.252267  {'Take-out': True, 'Good For': {'dessert': Fal...  business  \n",
       "3  43.251045  {'Take-out': True, 'Wi-Fi': 'free', 'Takes Res...  business  \n",
       "4  43.240875  {'Take-out': True, 'Has TV': False, 'Outdoor S...  business  "
      ]
     },
     "execution_count": 47,
     "metadata": {},
     "output_type": "execute_result"
    }
   ],
   "source": [
    "to_data_frame = ToDataFrame()\n",
    "\n",
    "X_t = to_data_frame.fit_transform(data[:5])\n",
    "X_t"
   ]
  },
  {
   "cell_type": "code",
   "execution_count": 53,
   "metadata": {},
   "outputs": [
    {
     "data": {
      "text/plain": [
       "-111.983758"
      ]
     },
     "execution_count": 53,
     "metadata": {},
     "output_type": "execute_result"
    }
   ],
   "source": [
    "X_t['longitude'][0] "
   ]
  },
  {
   "cell_type": "code",
   "execution_count": 54,
   "metadata": {},
   "outputs": [
    {
     "data": {
      "text/plain": [
       "numpy.float64"
      ]
     },
     "execution_count": 54,
     "metadata": {},
     "output_type": "execute_result"
    }
   ],
   "source": [
    "type(X_t['latitude'][0])"
   ]
  },
  {
   "cell_type": "code",
   "execution_count": 69,
   "metadata": {},
   "outputs": [
    {
     "data": {
      "text/plain": [
       "array([  33.499313, -111.983758])"
      ]
     },
     "execution_count": 69,
     "metadata": {},
     "output_type": "execute_result"
    }
   ],
   "source": [
    "expected = np.array([data[0]['latitude'], data[0]['longitude']])\n",
    "expected"
   ]
  },
  {
   "cell_type": "code",
   "execution_count": 70,
   "metadata": {},
   "outputs": [
    {
     "data": {
      "text/plain": [
       "array([  33.499313, -111.983758])"
      ]
     },
     "execution_count": 70,
     "metadata": {},
     "output_type": "execute_result"
    }
   ],
   "source": [
    "selector.fit_transform(X_t)[0]"
   ]
  },
  {
   "cell_type": "markdown",
   "metadata": {
    "slideshow": null
   },
   "source": [
    "Now we are ready to use `ColumnTransformer` and test it out."
   ]
  },
  {
   "cell_type": "code",
   "execution_count": 48,
   "metadata": {
    "slideshow": null
   },
   "outputs": [
    {
     "data": {
      "text/plain": [
       "True"
      ]
     },
     "execution_count": 48,
     "metadata": {},
     "output_type": "execute_result"
    }
   ],
   "source": [
    "import numpy as np\n",
    "from sklearn.compose import ColumnTransformer\n",
    "\n",
    "selector = ColumnTransformer([('encoder', 'passthrough', ['latitude']), ('encoders', 'passthrough', ['longitude'])])\n",
    "expected = np.array([data[0]['latitude'], data[0]['longitude']])"
   ]
  },
  {
   "cell_type": "markdown",
   "metadata": {
    "slideshow": null
   },
   "source": [
    "Now, let's feed the output of the transformer in to a `KNeighborsRegressor`. As a sanity check, we'll test it with the first 5 rows."
   ]
  },
  {
   "cell_type": "code",
   "execution_count": 49,
   "metadata": {
    "slideshow": null
   },
   "outputs": [
    {
     "data": {
      "text/plain": [
       "array([4. , 4.2, 4. , 3.8, 4.2])"
      ]
     },
     "execution_count": 49,
     "metadata": {},
     "output_type": "execute_result"
    }
   ],
   "source": [
    "from sklearn.neighbors import KNeighborsRegressor\n",
    "\n",
    "# Training the model\n",
    "data_transform = to_data_frame.transform(data)\n",
    "data_transform = selector.fit_transform(data_transform)\n",
    "knn = KNeighborsRegressor(n_neighbors=5)\n",
    "knn.fit(data_transform, star_ratings)\n",
    "\n",
    "# Making predictions\n",
    "test_data = data[:5]\n",
    "test_data_transform = to_data_frame.transform(test_data)\n",
    "test_data_transform = selector.transform(test_data_transform)\n",
    "knn.predict(test_data_transform)"
   ]
  },
  {
   "cell_type": "code",
   "execution_count": 50,
   "metadata": {},
   "outputs": [
    {
     "data": {
      "text/plain": [
       "array([[  33.499313 , -111.983758 ],\n",
       "       [  43.238893 ,  -89.335844 ],\n",
       "       [  43.252267 ,  -89.353437 ],\n",
       "       ...,\n",
       "       [  33.4571063, -112.071074 ],\n",
       "       [  33.5313101, -112.064508 ],\n",
       "       [  55.9441696,   -3.2025293]])"
      ]
     },
     "execution_count": 50,
     "metadata": {},
     "output_type": "execute_result"
    }
   ],
   "source": [
    "data_transform"
   ]
  },
  {
   "cell_type": "markdown",
   "metadata": {
    "slideshow": null
   },
   "source": [
    "For the first point, we will use a pipeline, ensuring that our model applies all the required transformations given the form of the input data. Remember that a pipeline is made with a list of `(step_name, estimator)` tuples."
   ]
  },
  {
   "cell_type": "code",
   "execution_count": 74,
   "metadata": {
    "slideshow": null
   },
   "outputs": [],
   "source": [
    "from sklearn.pipeline import Pipeline\n",
    "\n",
    "pipe = Pipeline([\n",
    "    ('to_frame', ToDataFrame()),\n",
    "    ('features', selector),\n",
    "    ('regressor', knn)\n",
    "    ])"
   ]
  },
  {
   "cell_type": "markdown",
   "metadata": {
    "slideshow": null
   },
   "source": [
    "Now let's fit and predict."
   ]
  },
  {
   "cell_type": "code",
   "execution_count": 75,
   "metadata": {
    "slideshow": null
   },
   "outputs": [
    {
     "data": {
      "text/plain": [
       "array([4. , 4.2, 4. , 3.8, 4.2])"
      ]
     },
     "execution_count": 75,
     "metadata": {},
     "output_type": "execute_result"
    }
   ],
   "source": [
    "pipe.fit(data, star_ratings)\n",
    "pipe.predict(data[:5])"
   ]
  },
  {
   "cell_type": "markdown",
   "metadata": {
    "slideshow": null
   },
   "source": [
    "Let's now focus on the second point. The `KNeighborsRegressor` takes the `n_neighbors` hyperparameter, which tells it how many nearest neighbors to average together when making a prediction. There is no reason to believe that 5 is the optimum value. We will need to determine a better value for this hyperparameter. A common approach is to use a hyperparameter searching tool such as [`GridSearchCV`](http://scikit-learn.org/stable/modules/generated/sklearn.model_selection.GridSearchCV.html#sklearn.model_selection.GridSearchCV). You may need to refer back to the notebooks about the ways to interface searching tools and pipelines."
   ]
  },
  {
   "cell_type": "markdown",
   "metadata": {
    "slideshow": null
   },
   "source": [
    "We should consider whether the data needs to be shuffled as it might not have been randomized. For example, the data could be ordered by a certain feature or by the labels. If you perform a train/test split with [`train_test_split`](http://scikit-learn.org/stable/modules/generated/sklearn.model_selection.train_test_split.html#sklearn.model_selection.train_test_split), the data is shuffled by default. However, when using `GridSearchCV`, the folds are not shuffled when you use the default K-folds cross-validation.\n",
    "\n",
    "The code below will plot a rolling mean of the star ratings. "
   ]
  },
  {
   "cell_type": "code",
   "execution_count": 76,
   "metadata": {
    "slideshow": null
   },
   "outputs": [
    {
     "data": {
      "image/png": "[encoded data removed]",
      "text/plain": [
       "<Figure size 432x288 with 1 Axes>"
      ]
     },
     "metadata": {},
     "output_type": "display_data"
    }
   ],
   "source": [
    "from pandas import Series\n",
    "import matplotlib.pyplot as plt\n",
    "\n",
    "plt.plot(Series.rolling(Series(star_ratings), window=1000).mean());"
   ]
  },
  {
   "cell_type": "code",
   "execution_count": 83,
   "metadata": {},
   "outputs": [],
   "source": [
    "import random \n",
    "\n",
    "random.shuffle(data)\n",
    "star_ratings = [row['stars'] for row in data]"
   ]
  },
  {
   "cell_type": "code",
   "execution_count": 84,
   "metadata": {},
   "outputs": [
    {
     "data": {
      "image/png": "[encoded data removed]",
      "text/plain": [
       "<Figure size 432x288 with 1 Axes>"
      ]
     },
     "metadata": {},
     "output_type": "display_data"
    }
   ],
   "source": [
    "plt.plot(Series.rolling(Series(star_ratings), window=1000).mean());"
   ]
  },
  {
   "cell_type": "code",
   "execution_count": 87,
   "metadata": {
    "slideshow": null
   },
   "outputs": [
    {
     "data": {
      "text/plain": [
       "Pipeline(steps=[('to_frame', ToDataFrame()),\n",
       "                ('features',\n",
       "                 ColumnTransformer(transformers=[('encoder', 'passthrough',\n",
       "                                                  ['latitude']),\n",
       "                                                 ('encoders', 'passthrough',\n",
       "                                                  ['longitude'])])),\n",
       "                ('regressor', KNeighborsRegressor(n_neighbors=78))])"
      ]
     },
     "execution_count": 87,
     "metadata": {},
     "output_type": "execute_result"
    }
   ],
   "source": [
    "from sklearn.model_selection import GridSearchCV\n",
    "from sklearn.pipeline import Pipeline\n",
    "\n",
    "\n",
    "knn = KNeighborsRegressor(n_neighbors=78)\n",
    "\n",
    "piped = Pipeline([\n",
    "    ('to_frame', ToDataFrame()),\n",
    "    ('features', selector),\n",
    "    ('regressor', knn)\n",
    "    ])\n",
    "\n",
    "lat_long_model = GridSearchCV(piped, '')\n",
    "\n",
    "lat_long_model.fit(data, star_ratings)"
   ]
  },
  {
   "cell_type": "markdown",
   "metadata": {
    "slideshow": null
   },
   "source": [
    "## Category Model"
   ]
  },
  {
   "cell_type": "markdown",
   "metadata": {
    "slideshow": null
   },
   "source": [
    "While location is important, we could also try seeing how predictive the\n",
    "venue's category is. We will build an estimator that considers only the `'categories'` field of the data.\n",
    "\n",
    "The categories come as a list of strings, but the scikit-learn's predictors all need numeric input. We ultimately want to create a column in our feature matrix to represent every category. For a given row, only the columns that represent the categories it contains will be filled with a one, otherwise, it will be filled with a zero. The described method is similar to **one-hot encoding**, however, an observation/row can contain more than one \"hot\", non-zero, column.\n",
    "\n",
    "To achieve our encoding plan, we need to use scikit-learn's provides [`DictVectorizer`](http://scikit-learn.org/stable/modules/generated/sklearn.feature_extraction.DictVectorizer.html#sklearn.feature_extraction.DictVectorizer). This transformer takes a 1-D array of dictionaries and creates a column in the output matrix for each key in the dictionary and fills it with the value associated with it. Missing keys are filled with zeros. However, we need to build a transformer that takes an array of strings and returns an array of dictionaries with keys given by those strings and values of one. For example, it should transform `X_in` into `X_out`."
   ]
  },
  {
   "cell_type": "code",
   "execution_count": 89,
   "metadata": {
    "slideshow": null
   },
   "outputs": [
    {
     "name": "stdout",
     "output_type": "stream",
     "text": [
      "<class 'pandas.core.series.Series'>\n",
      "0            {'a': 1}\n",
      "1    {'b': 1, 'c': 1}\n",
      "dtype: object\n"
     ]
    }
   ],
   "source": [
    "X_in = pd.Series([['a'], ['b', 'c']])\n",
    "X_out = pd.Series([{'a': 1}, {'b': 1, 'c': 1}])\n",
    "\n",
    "print(type(X_in))\n",
    "print(X_out)"
   ]
  },
  {
   "cell_type": "code",
   "execution_count": 92,
   "metadata": {},
   "outputs": [
    {
     "data": {
      "text/plain": [
       "[{'a': 1}, {'b': 1, 'c': 1}]"
      ]
     },
     "execution_count": 92,
     "metadata": {},
     "output_type": "execute_result"
    }
   ],
   "source": [
    "opo = DictEncoder().fit_transform(X_in)\n",
    "opo"
   ]
  },
  {
   "cell_type": "code",
   "execution_count": 93,
   "metadata": {},
   "outputs": [
    {
     "data": {
      "text/plain": [
       "array([[1., 0., 0.],\n",
       "       [0., 1., 1.]])"
      ]
     },
     "execution_count": 93,
     "metadata": {},
     "output_type": "execute_result"
    }
   ],
   "source": [
    "from sklearn.feature_extraction import DictVectorizer\n",
    "\n",
    "DictVectorizer(sparse=False).fit_transform(opo)"
   ]
  },
  {
   "cell_type": "code",
   "execution_count": 94,
   "metadata": {},
   "outputs": [
    {
     "data": {
      "text/plain": [
       "pandas.core.series.Series"
      ]
     },
     "execution_count": 94,
     "metadata": {},
     "output_type": "execute_result"
    }
   ],
   "source": [
    "type(X_out)"
   ]
  },
  {
   "cell_type": "code",
   "execution_count": 95,
   "metadata": {},
   "outputs": [
    {
     "data": {
      "text/plain": [
       "Pipeline(steps=[('to_frame', ToDataFrame()),\n",
       "                ('features',\n",
       "                 ColumnTransformer(transformers=[('encoder', 'passthrough',\n",
       "                                                  ['latitude']),\n",
       "                                                 ('encoders', 'passthrough',\n",
       "                                                  ['longitude'])])),\n",
       "                ('gs_est',\n",
       "                 GridSearchCV(estimator=KNeighborsRegressor(),\n",
       "                              param_grid={'n_neighbors': [3, 5, 11, 19, 21]}))])"
      ]
     },
     "execution_count": 95,
     "metadata": {},
     "output_type": "execute_result"
    }
   ],
   "source": [
    "selector = ColumnTransformer([('encoder', 'passthrough', ['latitude']), ('encoders', 'passthrough', ['longitude'])])\n",
    "\n",
    "from sklearn.model_selection import GridSearchCV\n",
    "from sklearn.pipeline import Pipeline\n",
    "\n",
    "param_grid = {'n_neighbors': [3,5,11,19,21]}\n",
    "gs = GridSearchCV(KNeighborsRegressor(), param_grid)\n",
    "\n",
    "lat_long_model = Pipeline([\n",
    "    ('to_frame', ToDataFrame()),\n",
    "    ('features', selector),\n",
    "    ('gs_est', gs)\n",
    "    ])\n",
    "\n",
    "lat_long_model.fit(data, star_ratings)"
   ]
  },
  {
   "cell_type": "code",
   "execution_count": 96,
   "metadata": {
    "slideshow": null
   },
   "outputs": [],
   "source": [
    "import pandas as pd\n",
    "from sklearn.base import TransformerMixin\n",
    "from sklearn.base import BaseEstimator, RegressorMixin\n",
    "\n",
    "class DictEncoder(BaseEstimator, TransformerMixin):\n",
    "    def fit(self, X, y=None):\n",
    "        return self\n",
    "    \n",
    "    def transform(self, X):\n",
    "        # X will be a pandas series. Return a pandas series of dictionaries\n",
    "        z = []\n",
    "        for i in X:\n",
    "            leng = len(i)\n",
    "            x = [1] * leng\n",
    "            d1 = dict(zip(i, x))\n",
    "            z.append(d1)\n",
    "        return z"
   ]
  },
  {
   "cell_type": "markdown",
   "metadata": {
    "slideshow": null
   },
   "source": [
    "Now, we will create a pipeline object of the two step transformation for the categories data. Afterwards, we will create a `ColumnTransformer` object that will use the aforementioned pipeline object to transform the `'categories'` field."
   ]
  },
  {
   "cell_type": "markdown",
   "metadata": {
    "slideshow": null
   },
   "source": [
    "Finally, we will create a pipeline object that will\n",
    "1. Convert our list of dictionaries into a data frame\n",
    "1. Select the `'categories'` column and encode the data\n",
    "1. Train a regularized linear model such as `Ridge`\n",
    "\n",
    "There will be a large number of features, one for each category, so there is a significant danger of overfitting. We will use cross validation to choose the best regularization parameter."
   ]
  },
  {
   "cell_type": "code",
   "execution_count": 98,
   "metadata": {
    "slideshow": null
   },
   "outputs": [
    {
     "data": {
      "text/plain": [
       "Pipeline(steps=[('to_frame', ToDataFrame()),\n",
       "                ('features',\n",
       "                 ColumnTransformer(transformers=[('categorical',\n",
       "                                                  Pipeline(steps=[('dict_encode',\n",
       "                                                                   DictEncoder()),\n",
       "                                                                  ('dictvect',\n",
       "                                                                   DictVectorizer(sparse=False))]),\n",
       "                                                  'categories')])),\n",
       "                ('ridgg',\n",
       "                 GridSearchCV(estimator=Ridge(),\n",
       "                              param_grid={'alpha': [1, 0.1, 0.01, 0.001]}))])"
      ]
     },
     "execution_count": 98,
     "metadata": {},
     "output_type": "execute_result"
    }
   ],
   "source": [
    "from sklearn.model_selection import GridSearchCV\n",
    "from sklearn.pipeline import Pipeline\n",
    "from sklearn.linear_model import Ridge\n",
    "from sklearn.feature_extraction import DictVectorizer\n",
    "\n",
    "categorical_columns = ['categories']  \n",
    "\n",
    "params_Ridge = {'alpha': [1, 0.1, 0.01, 0.001]}\n",
    "\n",
    "Ridge_GS = GridSearchCV(Ridge(), param_grid=params_Ridge)\n",
    "\n",
    "piper = Pipeline([\n",
    "    ('dict_encode', DictEncoder()),\n",
    "    ('dictvect', DictVectorizer(sparse=False))\n",
    "])\n",
    "\n",
    "features = ColumnTransformer([('categorical', piper, 'categories')], remainder='drop')\n",
    "\n",
    "category_model = Pipeline([\n",
    "    ('to_frame', ToDataFrame()),\n",
    "    ('features', features),\n",
    "    ('ridgg', Ridge_GS)\n",
    "])\n",
    "    \n",
    "category_model.fit(data, star_ratings)"
   ]
  },
  {
   "cell_type": "code",
   "execution_count": 99,
   "metadata": {},
   "outputs": [
    {
     "data": {
      "text/plain": [
       "[{'business_id': 'uoAMNAs6Bcvbl8v9Q97V6Q',\n",
       "  'full_address': '111 E  Dunlap Ave\\nSte 113-115\\nPhoenix, AZ 85020',\n",
       "  'hours': {'Monday': {'close': '12:00', 'open': '05:30'},\n",
       "   'Tuesday': {'close': '18:00', 'open': '05:30'},\n",
       "   'Friday': {'close': '20:00', 'open': '05:30'},\n",
       "   'Wednesday': {'close': '18:00', 'open': '05:30'},\n",
       "   'Thursday': {'close': '18:00', 'open': '05:30'},\n",
       "   'Sunday': {'close': '12:00', 'open': '05:30'},\n",
       "   'Saturday': {'close': '20:00', 'open': '05:30'}},\n",
       "  'open': True,\n",
       "  'categories': ['Bakeries', 'Food'],\n",
       "  'city': 'Phoenix',\n",
       "  'review_count': 13,\n",
       "  'name': \"Karl's Quality Bakery\",\n",
       "  'neighborhoods': [],\n",
       "  'longitude': -112.0722814,\n",
       "  'state': 'AZ',\n",
       "  'stars': 5.0,\n",
       "  'latitude': 33.5677316,\n",
       "  'attributes': {'Parking': {'garage': False,\n",
       "    'street': False,\n",
       "    'validated': False,\n",
       "    'lot': True,\n",
       "    'valet': False},\n",
       "   'Accepts Credit Cards': True,\n",
       "   'Price Range': 1},\n",
       "  'type': 'business'},\n",
       " {'business_id': 'O16EckCLtNoA49hewGht_w',\n",
       "  'full_address': '6516 University Ave\\nMiddleton, WI 53562',\n",
       "  'hours': {'Friday': {'close': '12:30', 'open': '07:30'},\n",
       "   'Tuesday': {'close': '17:30', 'open': '07:30'},\n",
       "   'Monday': {'close': '17:30', 'open': '07:30'},\n",
       "   'Wednesday': {'close': '17:30', 'open': '07:30'},\n",
       "   'Thursday': {'close': '17:30', 'open': '07:30'}},\n",
       "  'open': True,\n",
       "  'categories': ['Tires', 'Automotive', 'Auto Repair'],\n",
       "  'city': 'Middleton',\n",
       "  'review_count': 3,\n",
       "  'name': \"Dunn's Import Inc\",\n",
       "  'neighborhoods': [],\n",
       "  'longitude': -89.493464,\n",
       "  'state': 'WI',\n",
       "  'stars': 5.0,\n",
       "  'latitude': 43.095357,\n",
       "  'attributes': {},\n",
       "  'type': 'business'},\n",
       " {'business_id': 'CsA28RbQ_z_aZmRr8VL5kg',\n",
       "  'full_address': '7014 E Camelback Rd\\nSte 1024\\nScottsdale, AZ 85251',\n",
       "  'hours': {},\n",
       "  'open': True,\n",
       "  'categories': ['Fashion', 'Shopping', 'Shoe Stores'],\n",
       "  'city': 'Scottsdale',\n",
       "  'review_count': 3,\n",
       "  'name': 'Clarks Shoes',\n",
       "  'neighborhoods': [],\n",
       "  'longitude': -111.9290233,\n",
       "  'state': 'AZ',\n",
       "  'stars': 4.5,\n",
       "  'latitude': 33.5025088,\n",
       "  'attributes': {'Parking': {'garage': False,\n",
       "    'street': False,\n",
       "    'validated': False,\n",
       "    'lot': False,\n",
       "    'valet': False},\n",
       "   'Accepts Credit Cards': True,\n",
       "   'Price Range': 3},\n",
       "  'type': 'business'},\n",
       " {'business_id': '8W-8fwuJE-5bo5qi1NxtDg',\n",
       "  'full_address': '2165 E Baseline Rd\\nTempe, AZ 85283',\n",
       "  'hours': {},\n",
       "  'open': True,\n",
       "  'categories': ['Car Wash',\n",
       "   'Automotive',\n",
       "   'Convenience Stores',\n",
       "   'Food',\n",
       "   'Gas & Service Stations'],\n",
       "  'city': 'Tempe',\n",
       "  'review_count': 10,\n",
       "  'name': 'Shell',\n",
       "  'neighborhoods': [],\n",
       "  'longitude': -111.894182,\n",
       "  'state': 'AZ',\n",
       "  'stars': 3.0,\n",
       "  'latitude': 33.3778738,\n",
       "  'attributes': {'Parking': {'garage': False,\n",
       "    'street': False,\n",
       "    'validated': False,\n",
       "    'lot': False,\n",
       "    'valet': False},\n",
       "   'Accepts Credit Cards': True,\n",
       "   'Price Range': 2},\n",
       "  'type': 'business'},\n",
       " {'business_id': 'QBoynogVWpl44LglOEIYhw',\n",
       "  'full_address': '1324 S Rural Rd\\nTempe, AZ 85281',\n",
       "  'hours': {},\n",
       "  'open': True,\n",
       "  'categories': ['Mexican', 'Restaurants'],\n",
       "  'city': 'Tempe',\n",
       "  'review_count': 26,\n",
       "  'name': 'Costa Vida',\n",
       "  'neighborhoods': [],\n",
       "  'longitude': -111.9262937,\n",
       "  'state': 'AZ',\n",
       "  'stars': 3.5,\n",
       "  'latitude': 33.4143548,\n",
       "  'attributes': {'Take-out': True,\n",
       "   'Wi-Fi': 'free',\n",
       "   'Good For': {'dessert': False,\n",
       "    'latenight': False,\n",
       "    'lunch': False,\n",
       "    'dinner': False,\n",
       "    'breakfast': False,\n",
       "    'brunch': True},\n",
       "   'Caters': True,\n",
       "   'Noise Level': 'average',\n",
       "   'Takes Reservations': False,\n",
       "   'Delivery': False,\n",
       "   'Ambience': {'romantic': False,\n",
       "    'intimate': False,\n",
       "    'classy': False,\n",
       "    'hipster': False,\n",
       "    'divey': False,\n",
       "    'touristy': False,\n",
       "    'trendy': False,\n",
       "    'upscale': False,\n",
       "    'casual': False},\n",
       "   'Parking': {'garage': False,\n",
       "    'street': False,\n",
       "    'validated': False,\n",
       "    'lot': True,\n",
       "    'valet': False},\n",
       "   'Has TV': True,\n",
       "   'Outdoor Seating': True,\n",
       "   'Attire': 'casual',\n",
       "   'Alcohol': 'beer_and_wine',\n",
       "   'Waiter Service': False,\n",
       "   'Accepts Credit Cards': True,\n",
       "   'Good for Kids': True,\n",
       "   'Good For Groups': True,\n",
       "   'Price Range': 1},\n",
       "  'type': 'business'}]"
      ]
     },
     "execution_count": 99,
     "metadata": {},
     "output_type": "execute_result"
    }
   ],
   "source": [
    "rex = data[:5]\n",
    "rex"
   ]
  },
  {
   "cell_type": "code",
   "execution_count": 103,
   "metadata": {},
   "outputs": [],
   "source": [
    "rexov = ToDataFrame().fit_transform(rex)"
   ]
  },
  {
   "cell_type": "code",
   "execution_count": 104,
   "metadata": {},
   "outputs": [
    {
     "data": {
      "text/plain": [
       "0                                     [Bakeries, Food]\n",
       "1                     [Tires, Automotive, Auto Repair]\n",
       "2                     [Fashion, Shopping, Shoe Stores]\n",
       "3    [Car Wash, Automotive, Convenience Stores, Foo...\n",
       "4                               [Mexican, Restaurants]\n",
       "Name: categories, dtype: object"
      ]
     },
     "execution_count": 104,
     "metadata": {},
     "output_type": "execute_result"
    }
   ],
   "source": [
    "rexov['categories']"
   ]
  },
  {
   "cell_type": "code",
   "execution_count": 105,
   "metadata": {},
   "outputs": [],
   "source": [
    "rexoviov = DictEncoder().fit_transform(rexov['categories'])"
   ]
  },
  {
   "cell_type": "code",
   "execution_count": 106,
   "metadata": {},
   "outputs": [
    {
     "data": {
      "text/plain": [
       "array([[0., 0., 1., 0., 0., 0., 1., 0., 0., 0., 0., 0., 0.],\n",
       "       [1., 1., 0., 0., 0., 0., 0., 0., 0., 0., 0., 0., 1.],\n",
       "       [0., 0., 0., 0., 0., 1., 0., 0., 0., 0., 1., 1., 0.],\n",
       "       [0., 1., 0., 1., 1., 0., 1., 1., 0., 0., 0., 0., 0.],\n",
       "       [0., 0., 0., 0., 0., 0., 0., 0., 1., 1., 0., 0., 0.]])"
      ]
     },
     "execution_count": 106,
     "metadata": {},
     "output_type": "execute_result"
    }
   ],
   "source": [
    "DictVectorizer(sparse=False).fit_transform(rexoviov)"
   ]
  },
  {
   "cell_type": "markdown",
   "metadata": {
    "slideshow": null
   },
   "source": [
    "Some categories (e.g., Restaurants) are not very specific. Others (Japanese sushi) are much more so.  One way to deal with this is with an measure call term frequency-inverse document frequency (tf-idf). Add in a [`TfidfTransformer`](https://scikit-learn.org/stable/modules/generated/sklearn.feature_extraction.text.TfidfVectorizer.html) between the `DictVectorizer` and the linear model, and see if that improves performance."
   ]
  },
  {
   "cell_type": "markdown",
   "metadata": {
    "slideshow": null
   },
   "source": [
    "## Attribute Model"
   ]
  },
  {
   "cell_type": "markdown",
   "metadata": {
    "slideshow": null
   },
   "source": [
    "There is even more information in the attributes for each venue.  Let's build an estimator based on these.\n",
    "\n",
    "Venues attributes may be nested:\n",
    "```python\n",
    "{\n",
    "  'Attire': 'casual',\n",
    "  'Accepts Credit Cards': True,\n",
    "  'Ambiance': {'casual': False, 'classy': False}\n",
    "}\n",
    "```\n",
    "We wish to encode them in the same manner as our categories data using the `DictVectorizer`. Before we do so, we need to flatten the dictionary to a single level:\n",
    "```python\n",
    "{\n",
    "  'Attire_casual' : 1,\n",
    "  'Accepts Credit Cards': 1,\n",
    "  'Ambiance_casual': 0,\n",
    "  'Ambiance_classy': 0\n",
    "}\n",
    "```\n",
    "We will build a custom transformer that flattens the dictionary for the `'attributes'` field. Similar to what was done before, we will create a model that properly encodes the attribute data and learns to predict the ratings."
   ]
  },
  {
   "cell_type": "code",
   "execution_count": 108,
   "metadata": {},
   "outputs": [],
   "source": [
    "import collections\n",
    "\n",
    "class AttributeFlattener(BaseEstimator, TransformerMixin):\n",
    "    \n",
    "    def fit(self, X, y=None):\n",
    "        return self\n",
    "    \n",
    "    def transform(self, X):          \n",
    "        \n",
    "        return [self.flatten(x) for x in X]\n",
    "    \n",
    "    def flatten(self, X, parent_key='', sep='_'):\n",
    "        items = []\n",
    "        for k, v in X.items():\n",
    "            new_key = parent_key + sep + k if parent_key else k\n",
    "            if isinstance(v, collections.MutableMapping):\n",
    "                items.extend(self.flatten(v, new_key, sep=sep).items())\n",
    "            else:\n",
    "                items.append((new_key, v))\n",
    "        return dict(items)"
   ]
  },
  {
   "cell_type": "code",
   "execution_count": 109,
   "metadata": {},
   "outputs": [],
   "source": [
    "x = data[:5]"
   ]
  },
  {
   "cell_type": "code",
   "execution_count": 110,
   "metadata": {},
   "outputs": [],
   "source": [
    "import pandas as pd\n",
    "from sklearn.pipeline import Pipeline\n",
    "from sklearn.base import TransformerMixin\n",
    "from sklearn.base import BaseEstimator, RegressorMixin\n",
    "from sklearn.linear_model import Ridge\n",
    "from sklearn.neighbors import KNeighborsRegressor\n",
    "from sklearn.model_selection import GridSearchCV\n",
    "from sklearn.feature_extraction import DictVectorizer\n",
    "\n",
    "piper = Pipeline([('Flattened', AttributeFlattener()), \n",
    "                  ('dictvect', DictVectorizer(sparse=False))\n",
    "                 ])\n",
    "\n",
    "features = ColumnTransformer([('attFlattener', piper, 'attributes')], remainder='drop')"
   ]
  },
  {
   "cell_type": "code",
   "execution_count": 111,
   "metadata": {},
   "outputs": [
    {
     "name": "stderr",
     "output_type": "stream",
     "text": [
      "<ipython-input-108-f5265c96079d>:16: DeprecationWarning: Using or importing the ABCs from 'collections' instead of from 'collections.abc' is deprecated since Python 3.3, and in 3.9 it will stop working\n",
      "  if isinstance(v, collections.MutableMapping):\n"
     ]
    },
    {
     "data": {
      "text/plain": [
       "Pipeline(steps=[('to_frame', ToDataFrame()),\n",
       "                ('features',\n",
       "                 ColumnTransformer(transformers=[('attFlattener',\n",
       "                                                  Pipeline(steps=[('Flattened',\n",
       "                                                                   AttributeFlattener()),\n",
       "                                                                  ('dictvect',\n",
       "                                                                   DictVectorizer(sparse=False))]),\n",
       "                                                  'attributes')])),\n",
       "                ('ridgg',\n",
       "                 GridSearchCV(estimator=Ridge(),\n",
       "                              param_grid={'alpha': [1, 0.1, 0.01, 0.001]}))])"
      ]
     },
     "execution_count": 111,
     "metadata": {},
     "output_type": "execute_result"
    }
   ],
   "source": [
    "# Create the linear + non-linear ensemble predictor\n",
    "\n",
    "params_Ridge = {'alpha': [1, 0.1, 0.01, 0.001]}\n",
    "\n",
    "Ridge_GS = GridSearchCV(Ridge(), param_grid=params_Ridge)\n",
    "\n",
    "linear_model= Pipeline([('to_frame', ToDataFrame()),\n",
    "                   ('features', features),\n",
    "                   ('ridgg', Ridge_GS)\n",
    "                  ])\n",
    "\n",
    "linear_model.fit(data, star_ratings)"
   ]
  },
  {
   "cell_type": "code",
   "execution_count": 112,
   "metadata": {},
   "outputs": [
    {
     "data": {
      "text/plain": [
       "array([3.79020335, 3.70723665, 3.6125442 , ..., 3.70590009, 3.8994255 ,\n",
       "       3.78228389])"
      ]
     },
     "execution_count": 112,
     "metadata": {},
     "output_type": "execute_result"
    }
   ],
   "source": [
    "linear_model.predict(data)"
   ]
  },
  {
   "cell_type": "code",
   "execution_count": 113,
   "metadata": {},
   "outputs": [
    {
     "data": {
      "text/plain": [
       "Pipeline(steps=[('to_frame', ToDataFrame()),\n",
       "                ('features',\n",
       "                 ColumnTransformer(transformers=[('attFlattener',\n",
       "                                                  Pipeline(steps=[('Flattened',\n",
       "                                                                   AttributeFlattener()),\n",
       "                                                                  ('dictvect',\n",
       "                                                                   DictVectorizer(sparse=False))]),\n",
       "                                                  'attributes')])),\n",
       "                ('RF', RandomForestRegressor(max_depth=20, random_state=42))])"
      ]
     },
     "execution_count": 113,
     "metadata": {},
     "output_type": "execute_result"
    }
   ],
   "source": [
    "# non-linear ensemble predictor\n",
    "\n",
    "from sklearn.ensemble import RandomForestRegressor\n",
    "from sklearn.model_selection import GridSearchCV\n",
    "from sklearn.tree import DecisionTreeRegressor\n",
    "\n",
    "regr = RandomForestRegressor(max_depth=20, random_state=42)\n",
    "\n",
    "residual_star_ratings = np.array(star_ratings) - linear_model.predict(data)\n",
    "\n",
    "non_linear_model = Pipeline([('to_frame', ToDataFrame()),\n",
    "                   ('features', features),\n",
    "                   ('RF', regr)                 \n",
    "                  ])\n",
    "\n",
    "non_linear_model.fit(data, residual_star_ratings)"
   ]
  },
  {
   "cell_type": "code",
   "execution_count": 115,
   "metadata": {},
   "outputs": [
    {
     "data": {
      "text/plain": [
       "array([-0.12820352, -0.02486148, -0.13666532, ..., -0.05184038,\n",
       "        0.15666737, -0.0070458 ])"
      ]
     },
     "execution_count": 115,
     "metadata": {},
     "output_type": "execute_result"
    }
   ],
   "source": [
    "non_linear_model.predict(data)"
   ]
  },
  {
   "cell_type": "code",
   "execution_count": 114,
   "metadata": {},
   "outputs": [
    {
     "name": "stdout",
     "output_type": "stream",
     "text": [
      "[-1.33800017 -1.31762483 -1.02412112  0.70507312  0.25597745]\n"
     ]
    }
   ],
   "source": [
    "# Create the attribute model\n",
    "\n",
    "class AttributeModel(BaseEstimator, TransformerMixin):\n",
    "    def fit(self, X, y):\n",
    "        linear_model.fit(X, y)\n",
    "        residual_y = np.array(y) - linear_model.predict(X)\n",
    "        non_linear_model.fit(X, residual_y)\n",
    "        return self\n",
    "    \n",
    "    def predict(self, X):\n",
    "        return linear_model.predict(X) + non_linear_model.predict(X)\n",
    "    \n",
    "attribute_model = AttributeModel()\n",
    "print(attribute_model.predict(data[:5]) - np.array(star_ratings)[:5])"
   ]
  },
  {
   "cell_type": "code",
   "execution_count": 116,
   "metadata": {},
   "outputs": [
    {
     "data": {
      "text/plain": [
       "array([3.66199983, 3.68237517, 3.47587888, 3.70507312, 3.75597745])"
      ]
     },
     "execution_count": 116,
     "metadata": {},
     "output_type": "execute_result"
    }
   ],
   "source": [
    "attribute_model.predict(data[:5])"
   ]
  },
  {
   "cell_type": "code",
   "execution_count": 118,
   "metadata": {},
   "outputs": [
    {
     "data": {
      "text/html": [
       "<style>div.sk-top-container {color: black;background-color: white;}div.sk-toggleable {background-color: white;}label.sk-toggleable__label {cursor: pointer;display: block;width: 100%;margin-bottom: 0;padding: 0.2em 0.3em;box-sizing: border-box;text-align: center;}div.sk-toggleable__content {max-height: 0;max-width: 0;overflow: hidden;text-align: left;background-color: #f0f8ff;}div.sk-toggleable__content pre {margin: 0.2em;color: black;border-radius: 0.25em;background-color: #f0f8ff;}input.sk-toggleable__control:checked~div.sk-toggleable__content {max-height: 200px;max-width: 100%;overflow: auto;}div.sk-estimator input.sk-toggleable__control:checked~label.sk-toggleable__label {background-color: #d4ebff;}div.sk-label input.sk-toggleable__control:checked~label.sk-toggleable__label {background-color: #d4ebff;}input.sk-hidden--visually {border: 0;clip: rect(1px 1px 1px 1px);clip: rect(1px, 1px, 1px, 1px);height: 1px;margin: -1px;overflow: hidden;padding: 0;position: absolute;width: 1px;}div.sk-estimator {font-family: monospace;background-color: #f0f8ff;margin: 0.25em 0.25em;border: 1px dotted black;border-radius: 0.25em;box-sizing: border-box;}div.sk-estimator:hover {background-color: #d4ebff;}div.sk-parallel-item::after {content: \"\";width: 100%;border-bottom: 1px solid gray;flex-grow: 1;}div.sk-label:hover label.sk-toggleable__label {background-color: #d4ebff;}div.sk-serial::before {content: \"\";position: absolute;border-left: 1px solid gray;box-sizing: border-box;top: 2em;bottom: 0;left: 50%;}div.sk-serial {display: flex;flex-direction: column;align-items: center;background-color: white;}div.sk-item {z-index: 1;}div.sk-parallel {display: flex;align-items: stretch;justify-content: center;background-color: white;}div.sk-parallel-item {display: flex;flex-direction: column;position: relative;background-color: white;}div.sk-parallel-item:first-child::after {align-self: flex-end;width: 50%;}div.sk-parallel-item:last-child::after {align-self: flex-start;width: 50%;}div.sk-parallel-item:only-child::after {width: 0;}div.sk-dashed-wrapped {border: 1px dashed gray;margin: 0.2em;box-sizing: border-box;padding-bottom: 0.1em;background-color: white;position: relative;}div.sk-label label {font-family: monospace;font-weight: bold;background-color: white;display: inline-block;line-height: 1.2em;}div.sk-label-container {position: relative;z-index: 2;text-align: center;}div.sk-container {display: inline-block;position: relative;}</style><div class=\"sk-top-container\"><div class=\"sk-container\"><div class=\"sk-item sk-dashed-wrapped\"><div class=\"sk-label-container\"><div class=\"sk-label sk-toggleable\"><input class=\"sk-toggleable__control sk-hidden--visually\" id=\"ed795756-44b8-4fd2-b197-d77567a2fdaa\" type=\"checkbox\" ><label class=\"sk-toggleable__label\" for=\"ed795756-44b8-4fd2-b197-d77567a2fdaa\">Pipeline</label><div class=\"sk-toggleable__content\"><pre>Pipeline(steps=[('to_frame', ToDataFrame()),\n",
       "                ('features',\n",
       "                 ColumnTransformer(transformers=[('attFlattener',\n",
       "                                                  Pipeline(steps=[('Flattened',\n",
       "                                                                   AttributeFlattener()),\n",
       "                                                                  ('dictvect',\n",
       "                                                                   DictVectorizer(sparse=False))]),\n",
       "                                                  'attributes')])),\n",
       "                ('RF', RandomForestRegressor(max_depth=20, random_state=42))])</pre></div></div></div><div class=\"sk-serial\"><div class=\"sk-item\"><div class=\"sk-estimator sk-toggleable\"><input class=\"sk-toggleable__control sk-hidden--visually\" id=\"e0536cee-466e-456f-8dfe-ae93aefe9af1\" type=\"checkbox\" ><label class=\"sk-toggleable__label\" for=\"e0536cee-466e-456f-8dfe-ae93aefe9af1\">ToDataFrame</label><div class=\"sk-toggleable__content\"><pre>ToDataFrame()</pre></div></div></div><div class=\"sk-item sk-dashed-wrapped\"><div class=\"sk-label-container\"><div class=\"sk-label sk-toggleable\"><input class=\"sk-toggleable__control sk-hidden--visually\" id=\"1391c6db-aaff-485b-98da-04f18c859b08\" type=\"checkbox\" ><label class=\"sk-toggleable__label\" for=\"1391c6db-aaff-485b-98da-04f18c859b08\">features: ColumnTransformer</label><div class=\"sk-toggleable__content\"><pre>ColumnTransformer(transformers=[('attFlattener',\n",
       "                                 Pipeline(steps=[('Flattened',\n",
       "                                                  AttributeFlattener()),\n",
       "                                                 ('dictvect',\n",
       "                                                  DictVectorizer(sparse=False))]),\n",
       "                                 'attributes')])</pre></div></div></div><div class=\"sk-parallel\"><div class=\"sk-parallel-item\"><div class=\"sk-item\"><div class=\"sk-label-container\"><div class=\"sk-label sk-toggleable\"><input class=\"sk-toggleable__control sk-hidden--visually\" id=\"deb0b5a4-abac-415d-a600-e38310fd2e7c\" type=\"checkbox\" ><label class=\"sk-toggleable__label\" for=\"deb0b5a4-abac-415d-a600-e38310fd2e7c\">attFlattener</label><div class=\"sk-toggleable__content\"><pre>attributes</pre></div></div></div><div class=\"sk-serial\"><div class=\"sk-item\"><div class=\"sk-serial\"><div class=\"sk-item\"><div class=\"sk-estimator sk-toggleable\"><input class=\"sk-toggleable__control sk-hidden--visually\" id=\"51d5f921-93bd-4cec-ac71-e9b13527bee4\" type=\"checkbox\" ><label class=\"sk-toggleable__label\" for=\"51d5f921-93bd-4cec-ac71-e9b13527bee4\">AttributeFlattener</label><div class=\"sk-toggleable__content\"><pre>AttributeFlattener()</pre></div></div></div><div class=\"sk-item\"><div class=\"sk-estimator sk-toggleable\"><input class=\"sk-toggleable__control sk-hidden--visually\" id=\"e58e5015-850d-4af1-b9a6-9245686c018e\" type=\"checkbox\" ><label class=\"sk-toggleable__label\" for=\"e58e5015-850d-4af1-b9a6-9245686c018e\">DictVectorizer</label><div class=\"sk-toggleable__content\"><pre>DictVectorizer(sparse=False)</pre></div></div></div></div></div></div></div></div></div></div><div class=\"sk-item\"><div class=\"sk-estimator sk-toggleable\"><input class=\"sk-toggleable__control sk-hidden--visually\" id=\"00d7a262-50d0-4e71-be8c-7c392c8563f0\" type=\"checkbox\" ><label class=\"sk-toggleable__label\" for=\"00d7a262-50d0-4e71-be8c-7c392c8563f0\">RandomForestRegressor</label><div class=\"sk-toggleable__content\"><pre>RandomForestRegressor(max_depth=20, random_state=42)</pre></div></div></div></div></div></div></div>"
      ],
      "text/plain": [
       "Pipeline(steps=[('to_frame', ToDataFrame()),\n",
       "                ('features',\n",
       "                 ColumnTransformer(transformers=[('attFlattener',\n",
       "                                                  Pipeline(steps=[('Flattened',\n",
       "                                                                   AttributeFlattener()),\n",
       "                                                                  ('dictvect',\n",
       "                                                                   DictVectorizer(sparse=False))]),\n",
       "                                                  'attributes')])),\n",
       "                ('RF', RandomForestRegressor(max_depth=20, random_state=42))])"
      ]
     },
     "execution_count": 118,
     "metadata": {},
     "output_type": "execute_result"
    }
   ],
   "source": [
    "from sklearn import set_config\n",
    "set_config(display='diagram')\n",
    "\n",
    "non_linear_model"
   ]
  },
  {
   "cell_type": "markdown",
   "metadata": {
    "slideshow": null
   },
   "source": [
    "## Full Model"
   ]
  },
  {
   "cell_type": "markdown",
   "metadata": {
    "slideshow": null
   },
   "source": [
    "So far we have only built models based on individual features.  Now we will build an ensemble regressor that averages together the estimates of the four previous regressors.\n",
    "\n",
    "In order to use the existing models as input to a predictor, we will have to turn them into transformers; a predictor can only be in the final step of a pipeline. We will build a custom `ModelTransformer` class that takes a predictor as an argument. When `fit` is called, the predictor should be fit. When `transform` is called, the predictor's `predict` method should be called, and its results returned as the transformation.\n",
    "\n",
    "Note that the output of the `transform` method should be a 2-D array with a single column in order for it to work well with the scikit-learn pipeline. If you're using NumPy arrays, you can use `.reshape(-1, 1)` to create a column vector. If you are just using Python lists, you will want a list of lists of single elements."
   ]
  },
  {
   "cell_type": "code",
   "execution_count": 119,
   "metadata": {
    "slideshow": null
   },
   "outputs": [],
   "source": [
    "class ModelTransformer(BaseEstimator, TransformerMixin):\n",
    "    \n",
    "    def __init__(self, model):\n",
    "        # What needs to be done here?\n",
    "        self.model = model\n",
    "    \n",
    "    def fit(self, X, y):\n",
    "        # Fit the stored predictor.\n",
    "        # Question: what should be returned?\n",
    "        return self\n",
    "            \n",
    "    def transform(self, X):\n",
    "        # Use predict on the stored predictor as a \"transformation\".\n",
    "        # Be sure to return a 2-D array.\n",
    "        return (np.array(self.model.predict(X))).reshape(-1,1)"
   ]
  },
  {
   "cell_type": "code",
   "execution_count": 120,
   "metadata": {},
   "outputs": [
    {
     "data": {
      "text/html": [
       "<style>div.sk-top-container {color: black;background-color: white;}div.sk-toggleable {background-color: white;}label.sk-toggleable__label {cursor: pointer;display: block;width: 100%;margin-bottom: 0;padding: 0.2em 0.3em;box-sizing: border-box;text-align: center;}div.sk-toggleable__content {max-height: 0;max-width: 0;overflow: hidden;text-align: left;background-color: #f0f8ff;}div.sk-toggleable__content pre {margin: 0.2em;color: black;border-radius: 0.25em;background-color: #f0f8ff;}input.sk-toggleable__control:checked~div.sk-toggleable__content {max-height: 200px;max-width: 100%;overflow: auto;}div.sk-estimator input.sk-toggleable__control:checked~label.sk-toggleable__label {background-color: #d4ebff;}div.sk-label input.sk-toggleable__control:checked~label.sk-toggleable__label {background-color: #d4ebff;}input.sk-hidden--visually {border: 0;clip: rect(1px 1px 1px 1px);clip: rect(1px, 1px, 1px, 1px);height: 1px;margin: -1px;overflow: hidden;padding: 0;position: absolute;width: 1px;}div.sk-estimator {font-family: monospace;background-color: #f0f8ff;margin: 0.25em 0.25em;border: 1px dotted black;border-radius: 0.25em;box-sizing: border-box;}div.sk-estimator:hover {background-color: #d4ebff;}div.sk-parallel-item::after {content: \"\";width: 100%;border-bottom: 1px solid gray;flex-grow: 1;}div.sk-label:hover label.sk-toggleable__label {background-color: #d4ebff;}div.sk-serial::before {content: \"\";position: absolute;border-left: 1px solid gray;box-sizing: border-box;top: 2em;bottom: 0;left: 50%;}div.sk-serial {display: flex;flex-direction: column;align-items: center;background-color: white;}div.sk-item {z-index: 1;}div.sk-parallel {display: flex;align-items: stretch;justify-content: center;background-color: white;}div.sk-parallel-item {display: flex;flex-direction: column;position: relative;background-color: white;}div.sk-parallel-item:first-child::after {align-self: flex-end;width: 50%;}div.sk-parallel-item:last-child::after {align-self: flex-start;width: 50%;}div.sk-parallel-item:only-child::after {width: 0;}div.sk-dashed-wrapped {border: 1px dashed gray;margin: 0.2em;box-sizing: border-box;padding-bottom: 0.1em;background-color: white;position: relative;}div.sk-label label {font-family: monospace;font-weight: bold;background-color: white;display: inline-block;line-height: 1.2em;}div.sk-label-container {position: relative;z-index: 2;text-align: center;}div.sk-container {display: inline-block;position: relative;}</style><div class=\"sk-top-container\"><div class=\"sk-container\"><div class=\"sk-item sk-dashed-wrapped\"><div class=\"sk-label-container\"><div class=\"sk-label sk-toggleable\"><input class=\"sk-toggleable__control sk-hidden--visually\" id=\"ca93743f-a1af-4ce9-9775-eb1dfd138cb1\" type=\"checkbox\" ><label class=\"sk-toggleable__label\" for=\"ca93743f-a1af-4ce9-9775-eb1dfd138cb1\">ModelTransformer</label><div class=\"sk-toggleable__content\"><pre>ModelTransformer(model=CityRegressor())</pre></div></div></div><div class=\"sk-parallel\"><div class=\"sk-parallel-item\"><div class=\"sk-item\"><div class=\"sk-serial\"><div class=\"sk-item\"><div class=\"sk-estimator sk-toggleable\"><input class=\"sk-toggleable__control sk-hidden--visually\" id=\"fbfb6798-1a34-49d6-8b85-995346fd6a4b\" type=\"checkbox\" ><label class=\"sk-toggleable__label\" for=\"fbfb6798-1a34-49d6-8b85-995346fd6a4b\">CityRegressor</label><div class=\"sk-toggleable__content\"><pre>CityRegressor()</pre></div></div></div></div></div></div></div></div></div></div>"
      ],
      "text/plain": [
       "ModelTransformer(model=CityRegressor())"
      ]
     },
     "execution_count": 120,
     "metadata": {},
     "output_type": "execute_result"
    }
   ],
   "source": [
    "ModelTransformer(city_model)"
   ]
  },
  {
   "cell_type": "markdown",
   "metadata": {
    "slideshow": null
   },
   "source": [
    "Let's now test it out on our `city_model`."
   ]
  },
  {
   "cell_type": "code",
   "execution_count": 122,
   "metadata": {},
   "outputs": [
    {
     "data": {
      "text/html": [
       "<style>div.sk-top-container {color: black;background-color: white;}div.sk-toggleable {background-color: white;}label.sk-toggleable__label {cursor: pointer;display: block;width: 100%;margin-bottom: 0;padding: 0.2em 0.3em;box-sizing: border-box;text-align: center;}div.sk-toggleable__content {max-height: 0;max-width: 0;overflow: hidden;text-align: left;background-color: #f0f8ff;}div.sk-toggleable__content pre {margin: 0.2em;color: black;border-radius: 0.25em;background-color: #f0f8ff;}input.sk-toggleable__control:checked~div.sk-toggleable__content {max-height: 200px;max-width: 100%;overflow: auto;}div.sk-estimator input.sk-toggleable__control:checked~label.sk-toggleable__label {background-color: #d4ebff;}div.sk-label input.sk-toggleable__control:checked~label.sk-toggleable__label {background-color: #d4ebff;}input.sk-hidden--visually {border: 0;clip: rect(1px 1px 1px 1px);clip: rect(1px, 1px, 1px, 1px);height: 1px;margin: -1px;overflow: hidden;padding: 0;position: absolute;width: 1px;}div.sk-estimator {font-family: monospace;background-color: #f0f8ff;margin: 0.25em 0.25em;border: 1px dotted black;border-radius: 0.25em;box-sizing: border-box;}div.sk-estimator:hover {background-color: #d4ebff;}div.sk-parallel-item::after {content: \"\";width: 100%;border-bottom: 1px solid gray;flex-grow: 1;}div.sk-label:hover label.sk-toggleable__label {background-color: #d4ebff;}div.sk-serial::before {content: \"\";position: absolute;border-left: 1px solid gray;box-sizing: border-box;top: 2em;bottom: 0;left: 50%;}div.sk-serial {display: flex;flex-direction: column;align-items: center;background-color: white;}div.sk-item {z-index: 1;}div.sk-parallel {display: flex;align-items: stretch;justify-content: center;background-color: white;}div.sk-parallel-item {display: flex;flex-direction: column;position: relative;background-color: white;}div.sk-parallel-item:first-child::after {align-self: flex-end;width: 50%;}div.sk-parallel-item:last-child::after {align-self: flex-start;width: 50%;}div.sk-parallel-item:only-child::after {width: 0;}div.sk-dashed-wrapped {border: 1px dashed gray;margin: 0.2em;box-sizing: border-box;padding-bottom: 0.1em;background-color: white;position: relative;}div.sk-label label {font-family: monospace;font-weight: bold;background-color: white;display: inline-block;line-height: 1.2em;}div.sk-label-container {position: relative;z-index: 2;text-align: center;}div.sk-container {display: inline-block;position: relative;}</style><div class=\"sk-top-container\"><div class=\"sk-container\"><div class=\"sk-item sk-dashed-wrapped\"><div class=\"sk-label-container\"><div class=\"sk-label sk-toggleable\"><input class=\"sk-toggleable__control sk-hidden--visually\" id=\"00c5ac49-cc68-440c-af60-8b9ef677c0d8\" type=\"checkbox\" ><label class=\"sk-toggleable__label\" for=\"00c5ac49-cc68-440c-af60-8b9ef677c0d8\">ModelTransformer</label><div class=\"sk-toggleable__content\"><pre>ModelTransformer(model=Pipeline(steps=[('to_frame', ToDataFrame()),\n",
       "                                       ('features',\n",
       "                                        ColumnTransformer(transformers=[('encoder',\n",
       "                                                                         'passthrough',\n",
       "                                                                         ['latitude']),\n",
       "                                                                        ('encoders',\n",
       "                                                                         'passthrough',\n",
       "                                                                         ['longitude'])])),\n",
       "                                       ('gs_est',\n",
       "                                        GridSearchCV(estimator=KNeighborsRegressor(),\n",
       "                                                     param_grid={'n_neighbors': [3,\n",
       "                                                                                 5,\n",
       "                                                                                 11,\n",
       "                                                                                 19,\n",
       "                                                                                 21]}))]))</pre></div></div></div><div class=\"sk-parallel\"><div class=\"sk-parallel-item\"><div class=\"sk-item\"><div class=\"sk-serial\"><div class=\"sk-item\"><div class=\"sk-serial\"><div class=\"sk-item\"><div class=\"sk-estimator sk-toggleable\"><input class=\"sk-toggleable__control sk-hidden--visually\" id=\"a76f77ee-8558-4a02-a9b4-5f1a7f85e9b5\" type=\"checkbox\" ><label class=\"sk-toggleable__label\" for=\"a76f77ee-8558-4a02-a9b4-5f1a7f85e9b5\">ToDataFrame</label><div class=\"sk-toggleable__content\"><pre>ToDataFrame()</pre></div></div></div><div class=\"sk-item sk-dashed-wrapped\"><div class=\"sk-label-container\"><div class=\"sk-label sk-toggleable\"><input class=\"sk-toggleable__control sk-hidden--visually\" id=\"e6e386fa-8ec1-4aeb-8096-a79a45614e31\" type=\"checkbox\" ><label class=\"sk-toggleable__label\" for=\"e6e386fa-8ec1-4aeb-8096-a79a45614e31\">features: ColumnTransformer</label><div class=\"sk-toggleable__content\"><pre>ColumnTransformer(transformers=[('encoder', 'passthrough', ['latitude']),\n",
       "                                ('encoders', 'passthrough', ['longitude'])])</pre></div></div></div><div class=\"sk-parallel\"><div class=\"sk-parallel-item\"><div class=\"sk-item\"><div class=\"sk-label-container\"><div class=\"sk-label sk-toggleable\"><input class=\"sk-toggleable__control sk-hidden--visually\" id=\"22cf841f-744d-4fce-9828-738dfe8d3ad2\" type=\"checkbox\" ><label class=\"sk-toggleable__label\" for=\"22cf841f-744d-4fce-9828-738dfe8d3ad2\">encoder</label><div class=\"sk-toggleable__content\"><pre>['latitude']</pre></div></div></div><div class=\"sk-serial\"><div class=\"sk-item\"><div class=\"sk-estimator sk-toggleable\"><input class=\"sk-toggleable__control sk-hidden--visually\" id=\"5213b815-b46f-4f34-afcc-59d832084f49\" type=\"checkbox\" ><label class=\"sk-toggleable__label\" for=\"5213b815-b46f-4f34-afcc-59d832084f49\">passthrough</label><div class=\"sk-toggleable__content\"><pre>passthrough</pre></div></div></div></div></div></div><div class=\"sk-parallel-item\"><div class=\"sk-item\"><div class=\"sk-label-container\"><div class=\"sk-label sk-toggleable\"><input class=\"sk-toggleable__control sk-hidden--visually\" id=\"eaa4b111-339f-4641-807f-d8f1dc51696d\" type=\"checkbox\" ><label class=\"sk-toggleable__label\" for=\"eaa4b111-339f-4641-807f-d8f1dc51696d\">encoders</label><div class=\"sk-toggleable__content\"><pre>['longitude']</pre></div></div></div><div class=\"sk-serial\"><div class=\"sk-item\"><div class=\"sk-estimator sk-toggleable\"><input class=\"sk-toggleable__control sk-hidden--visually\" id=\"8a054e35-2a28-4fed-b034-9a1c6b79a90e\" type=\"checkbox\" ><label class=\"sk-toggleable__label\" for=\"8a054e35-2a28-4fed-b034-9a1c6b79a90e\">passthrough</label><div class=\"sk-toggleable__content\"><pre>passthrough</pre></div></div></div></div></div></div></div></div><div class=\"sk-item sk-dashed-wrapped\"><div class=\"sk-label-container\"><div class=\"sk-label sk-toggleable\"><input class=\"sk-toggleable__control sk-hidden--visually\" id=\"e55ab79a-5f7f-4b08-b5b9-6aef79a0f66c\" type=\"checkbox\" ><label class=\"sk-toggleable__label\" for=\"e55ab79a-5f7f-4b08-b5b9-6aef79a0f66c\">gs_est: GridSearchCV</label><div class=\"sk-toggleable__content\"><pre>GridSearchCV(estimator=KNeighborsRegressor(),\n",
       "             param_grid={'n_neighbors': [3, 5, 11, 19, 21]})</pre></div></div></div><div class=\"sk-parallel\"><div class=\"sk-parallel-item\"><div class=\"sk-item\"><div class=\"sk-serial\"><div class=\"sk-item\"><div class=\"sk-estimator sk-toggleable\"><input class=\"sk-toggleable__control sk-hidden--visually\" id=\"92b44ba9-90cd-4078-afbe-f898b03b634c\" type=\"checkbox\" ><label class=\"sk-toggleable__label\" for=\"92b44ba9-90cd-4078-afbe-f898b03b634c\">KNeighborsRegressor</label><div class=\"sk-toggleable__content\"><pre>KNeighborsRegressor()</pre></div></div></div></div></div></div></div></div></div></div></div></div></div></div></div></div></div>"
      ],
      "text/plain": [
       "ModelTransformer(model=Pipeline(steps=[('to_frame', ToDataFrame()),\n",
       "                                       ('features',\n",
       "                                        ColumnTransformer(transformers=[('encoder',\n",
       "                                                                         'passthrough',\n",
       "                                                                         ['latitude']),\n",
       "                                                                        ('encoders',\n",
       "                                                                         'passthrough',\n",
       "                                                                         ['longitude'])])),\n",
       "                                       ('gs_est',\n",
       "                                        GridSearchCV(estimator=KNeighborsRegressor(),\n",
       "                                                     param_grid={'n_neighbors': [3,\n",
       "                                                                                 5,\n",
       "                                                                                 11,\n",
       "                                                                                 19,\n",
       "                                                                                 21]}))]))"
      ]
     },
     "execution_count": 122,
     "metadata": {},
     "output_type": "execute_result"
    }
   ],
   "source": [
    "ModelTransformer(lat_long_model)"
   ]
  },
  {
   "cell_type": "markdown",
   "metadata": {
    "slideshow": null
   },
   "source": [
    "Create an instance of `ModelTransformer` for each of the previous four models. Combine these together in a single feature matrix with a\n",
    "[`FeatureUnion`](http://scikit-learn.org/stable/modules/generated/sklearn.pipeline.FeatureUnion.html#sklearn.pipeline.FeatureUnion)."
   ]
  },
  {
   "cell_type": "code",
   "execution_count": 124,
   "metadata": {
    "slideshow": null
   },
   "outputs": [],
   "source": [
    "from sklearn.pipeline import FeatureUnion\n",
    "\n",
    "union = FeatureUnion([('city_model', ModelTransformer(city_model)),\n",
    "                      ('lat_long_model', ModelTransformer(lat_long_model)), \n",
    "                      ('category_model', ModelTransformer(category_model)),\n",
    "                      ('linear_model', ModelTransformer(attribute_model))])"
   ]
  },
  {
   "cell_type": "code",
   "execution_count": 125,
   "metadata": {},
   "outputs": [],
   "source": [
    "union.fit(data, star_ratings)\n",
    "X_t = union.transform(data[:5])"
   ]
  },
  {
   "cell_type": "code",
   "execution_count": 126,
   "metadata": {},
   "outputs": [
    {
     "data": {
      "text/plain": [
       "array([[3.67029039, 3.66666667, 3.8328489 , 3.66199983],\n",
       "       [3.61111111, 3.69047619, 3.72421276, 3.68237517],\n",
       "       [3.82067576, 3.76190476, 3.6943262 , 3.47587888],\n",
       "       [3.6446213 , 3.57142857, 2.85528509, 3.70507312],\n",
       "       [3.6446213 , 3.33333333, 3.51209581, 3.75597745]])"
      ]
     },
     "execution_count": 126,
     "metadata": {},
     "output_type": "execute_result"
    }
   ],
   "source": [
    "X_t"
   ]
  },
  {
   "cell_type": "markdown",
   "metadata": {
    "slideshow": null
   },
   "source": [
    "Our `FeatureUnion` object should return a feature matrix with four columns."
   ]
  },
  {
   "cell_type": "markdown",
   "metadata": {
    "slideshow": null
   },
   "source": [
    "Finally, use a pipeline to combine the feature union with a linear regression (or another model) to weight the predictions."
   ]
  },
  {
   "cell_type": "code",
   "execution_count": 128,
   "metadata": {
    "slideshow": null
   },
   "outputs": [
    {
     "data": {
      "text/html": [
       "<style>div.sk-top-container {color: black;background-color: white;}div.sk-toggleable {background-color: white;}label.sk-toggleable__label {cursor: pointer;display: block;width: 100%;margin-bottom: 0;padding: 0.2em 0.3em;box-sizing: border-box;text-align: center;}div.sk-toggleable__content {max-height: 0;max-width: 0;overflow: hidden;text-align: left;background-color: #f0f8ff;}div.sk-toggleable__content pre {margin: 0.2em;color: black;border-radius: 0.25em;background-color: #f0f8ff;}input.sk-toggleable__control:checked~div.sk-toggleable__content {max-height: 200px;max-width: 100%;overflow: auto;}div.sk-estimator input.sk-toggleable__control:checked~label.sk-toggleable__label {background-color: #d4ebff;}div.sk-label input.sk-toggleable__control:checked~label.sk-toggleable__label {background-color: #d4ebff;}input.sk-hidden--visually {border: 0;clip: rect(1px 1px 1px 1px);clip: rect(1px, 1px, 1px, 1px);height: 1px;margin: -1px;overflow: hidden;padding: 0;position: absolute;width: 1px;}div.sk-estimator {font-family: monospace;background-color: #f0f8ff;margin: 0.25em 0.25em;border: 1px dotted black;border-radius: 0.25em;box-sizing: border-box;}div.sk-estimator:hover {background-color: #d4ebff;}div.sk-parallel-item::after {content: \"\";width: 100%;border-bottom: 1px solid gray;flex-grow: 1;}div.sk-label:hover label.sk-toggleable__label {background-color: #d4ebff;}div.sk-serial::before {content: \"\";position: absolute;border-left: 1px solid gray;box-sizing: border-box;top: 2em;bottom: 0;left: 50%;}div.sk-serial {display: flex;flex-direction: column;align-items: center;background-color: white;}div.sk-item {z-index: 1;}div.sk-parallel {display: flex;align-items: stretch;justify-content: center;background-color: white;}div.sk-parallel-item {display: flex;flex-direction: column;position: relative;background-color: white;}div.sk-parallel-item:first-child::after {align-self: flex-end;width: 50%;}div.sk-parallel-item:last-child::after {align-self: flex-start;width: 50%;}div.sk-parallel-item:only-child::after {width: 0;}div.sk-dashed-wrapped {border: 1px dashed gray;margin: 0.2em;box-sizing: border-box;padding-bottom: 0.1em;background-color: white;position: relative;}div.sk-label label {font-family: monospace;font-weight: bold;background-color: white;display: inline-block;line-height: 1.2em;}div.sk-label-container {position: relative;z-index: 2;text-align: center;}div.sk-container {display: inline-block;position: relative;}</style><div class=\"sk-top-container\"><div class=\"sk-container\"><div class=\"sk-item sk-dashed-wrapped\"><div class=\"sk-label-container\"><div class=\"sk-label sk-toggleable\"><input class=\"sk-toggleable__control sk-hidden--visually\" id=\"b3b60e17-f1a8-4e93-a36c-f5380bf08878\" type=\"checkbox\" ><label class=\"sk-toggleable__label\" for=\"b3b60e17-f1a8-4e93-a36c-f5380bf08878\">Pipeline</label><div class=\"sk-toggleable__content\"><pre>Pipeline(steps=[('union',\n",
       "                 FeatureUnion(transformer_list=[('city_model',\n",
       "                                                 ModelTransformer(model=CityRegressor())),\n",
       "                                                ('lat_long_model',\n",
       "                                                 ModelTransformer(model=Pipeline(steps=[('to_frame',\n",
       "                                                                                         ToDataFrame()),\n",
       "                                                                                        ('features',\n",
       "                                                                                         ColumnTransformer(transformers=[('encoder',\n",
       "                                                                                                                          'passthrough',\n",
       "                                                                                                                          ['latitude']),\n",
       "                                                                                                                         ('encoders',\n",
       "                                                                                                                          'passthrough',\n",
       "                                                                                                                          ['longitude'])])),\n",
       "                                                                                        ('gs_est',\n",
       "                                                                                         GridSearchCV(estim...\n",
       "                                                                                         ToDataFrame()),\n",
       "                                                                                        ('features',\n",
       "                                                                                         ColumnTransformer(transformers=[('categorical',\n",
       "                                                                                                                          Pipeline(steps=[('dict_encode',\n",
       "                                                                                                                                           DictEncoder()),\n",
       "                                                                                                                                          ('dictvect',\n",
       "                                                                                                                                           DictVectorizer(sparse=False))]),\n",
       "                                                                                                                          'categories')])),\n",
       "                                                                                        ('ridgg',\n",
       "                                                                                         GridSearchCV(estimator=Ridge(),\n",
       "                                                                                                      param_grid={'alpha': [1,\n",
       "                                                                                                                            0.1,\n",
       "                                                                                                                            0.01,\n",
       "                                                                                                                            0.001]}))]))),\n",
       "                                                ('linear_model',\n",
       "                                                 ModelTransformer(model=AttributeModel()))])),\n",
       "                ('LinReg', LinearRegression())])</pre></div></div></div><div class=\"sk-serial\"><div class=\"sk-item sk-dashed-wrapped\"><div class=\"sk-label-container\"><div class=\"sk-label sk-toggleable\"><input class=\"sk-toggleable__control sk-hidden--visually\" id=\"cd99deb5-2850-4d37-8e27-4d82d24e1320\" type=\"checkbox\" ><label class=\"sk-toggleable__label\" for=\"cd99deb5-2850-4d37-8e27-4d82d24e1320\">union: FeatureUnion</label><div class=\"sk-toggleable__content\"><pre>FeatureUnion(transformer_list=[('city_model',\n",
       "                                ModelTransformer(model=CityRegressor())),\n",
       "                               ('lat_long_model',\n",
       "                                ModelTransformer(model=Pipeline(steps=[('to_frame',\n",
       "                                                                        ToDataFrame()),\n",
       "                                                                       ('features',\n",
       "                                                                        ColumnTransformer(transformers=[('encoder',\n",
       "                                                                                                         'passthrough',\n",
       "                                                                                                         ['latitude']),\n",
       "                                                                                                        ('encoders',\n",
       "                                                                                                         'passthrough',\n",
       "                                                                                                         ['longitude'])])),\n",
       "                                                                       ('gs_est',\n",
       "                                                                        GridSearchCV(estimator=KNeighborsRegressor(...\n",
       "                                ModelTransformer(model=Pipeline(steps=[('to_frame',\n",
       "                                                                        ToDataFrame()),\n",
       "                                                                       ('features',\n",
       "                                                                        ColumnTransformer(transformers=[('categorical',\n",
       "                                                                                                         Pipeline(steps=[('dict_encode',\n",
       "                                                                                                                          DictEncoder()),\n",
       "                                                                                                                         ('dictvect',\n",
       "                                                                                                                          DictVectorizer(sparse=False))]),\n",
       "                                                                                                         'categories')])),\n",
       "                                                                       ('ridgg',\n",
       "                                                                        GridSearchCV(estimator=Ridge(),\n",
       "                                                                                     param_grid={'alpha': [1,\n",
       "                                                                                                           0.1,\n",
       "                                                                                                           0.01,\n",
       "                                                                                                           0.001]}))]))),\n",
       "                               ('linear_model',\n",
       "                                ModelTransformer(model=AttributeModel()))])</pre></div></div></div><div class=\"sk-parallel\"><div class=\"sk-parallel-item\"><div class=\"sk-item\"><div class=\"sk-label-container\"><div class=\"sk-label sk-toggleable\"><label>city_model</label></div></div><div class=\"sk-serial\"><div class=\"sk-item sk-dashed-wrapped\"><div class=\"sk-parallel\"><div class=\"sk-parallel-item\"><div class=\"sk-item\"><div class=\"sk-serial\"><div class=\"sk-item\"><div class=\"sk-estimator sk-toggleable\"><input class=\"sk-toggleable__control sk-hidden--visually\" id=\"4f0a39f2-e164-495b-aa40-f0983a6cfe06\" type=\"checkbox\" ><label class=\"sk-toggleable__label\" for=\"4f0a39f2-e164-495b-aa40-f0983a6cfe06\">CityRegressor</label><div class=\"sk-toggleable__content\"><pre>CityRegressor()</pre></div></div></div></div></div></div></div></div></div></div></div><div class=\"sk-parallel-item\"><div class=\"sk-item\"><div class=\"sk-label-container\"><div class=\"sk-label sk-toggleable\"><label>lat_long_model</label></div></div><div class=\"sk-serial\"><div class=\"sk-item sk-dashed-wrapped\"><div class=\"sk-parallel\"><div class=\"sk-parallel-item\"><div class=\"sk-item\"><div class=\"sk-serial\"><div class=\"sk-item\"><div class=\"sk-serial\"><div class=\"sk-item\"><div class=\"sk-estimator sk-toggleable\"><input class=\"sk-toggleable__control sk-hidden--visually\" id=\"12562ff1-e076-403c-8c06-278cb81f42bf\" type=\"checkbox\" ><label class=\"sk-toggleable__label\" for=\"12562ff1-e076-403c-8c06-278cb81f42bf\">ToDataFrame</label><div class=\"sk-toggleable__content\"><pre>ToDataFrame()</pre></div></div></div><div class=\"sk-item sk-dashed-wrapped\"><div class=\"sk-label-container\"><div class=\"sk-label sk-toggleable\"><input class=\"sk-toggleable__control sk-hidden--visually\" id=\"2ec9d2bb-8011-48f9-8d6e-e67ee0f2713a\" type=\"checkbox\" ><label class=\"sk-toggleable__label\" for=\"2ec9d2bb-8011-48f9-8d6e-e67ee0f2713a\">features: ColumnTransformer</label><div class=\"sk-toggleable__content\"><pre>ColumnTransformer(transformers=[('encoder', 'passthrough', ['latitude']),\n",
       "                                ('encoders', 'passthrough', ['longitude'])])</pre></div></div></div><div class=\"sk-parallel\"><div class=\"sk-parallel-item\"><div class=\"sk-item\"><div class=\"sk-label-container\"><div class=\"sk-label sk-toggleable\"><input class=\"sk-toggleable__control sk-hidden--visually\" id=\"8fbff6fd-ae52-467a-a178-6039d4474cb2\" type=\"checkbox\" ><label class=\"sk-toggleable__label\" for=\"8fbff6fd-ae52-467a-a178-6039d4474cb2\">encoder</label><div class=\"sk-toggleable__content\"><pre>['latitude']</pre></div></div></div><div class=\"sk-serial\"><div class=\"sk-item\"><div class=\"sk-estimator sk-toggleable\"><input class=\"sk-toggleable__control sk-hidden--visually\" id=\"2ff790c2-eb5a-42d9-8e42-a8ace1238169\" type=\"checkbox\" ><label class=\"sk-toggleable__label\" for=\"2ff790c2-eb5a-42d9-8e42-a8ace1238169\">passthrough</label><div class=\"sk-toggleable__content\"><pre>passthrough</pre></div></div></div></div></div></div><div class=\"sk-parallel-item\"><div class=\"sk-item\"><div class=\"sk-label-container\"><div class=\"sk-label sk-toggleable\"><input class=\"sk-toggleable__control sk-hidden--visually\" id=\"78638f45-37c9-46ea-83a7-dd171b12a0b8\" type=\"checkbox\" ><label class=\"sk-toggleable__label\" for=\"78638f45-37c9-46ea-83a7-dd171b12a0b8\">encoders</label><div class=\"sk-toggleable__content\"><pre>['longitude']</pre></div></div></div><div class=\"sk-serial\"><div class=\"sk-item\"><div class=\"sk-estimator sk-toggleable\"><input class=\"sk-toggleable__control sk-hidden--visually\" id=\"028a86dd-9743-4d48-a7c1-1809339788b9\" type=\"checkbox\" ><label class=\"sk-toggleable__label\" for=\"028a86dd-9743-4d48-a7c1-1809339788b9\">passthrough</label><div class=\"sk-toggleable__content\"><pre>passthrough</pre></div></div></div></div></div></div></div></div><div class=\"sk-item sk-dashed-wrapped\"><div class=\"sk-label-container\"><div class=\"sk-label sk-toggleable\"><input class=\"sk-toggleable__control sk-hidden--visually\" id=\"24ce4230-283e-41f0-89ca-a351c9062280\" type=\"checkbox\" ><label class=\"sk-toggleable__label\" for=\"24ce4230-283e-41f0-89ca-a351c9062280\">gs_est: GridSearchCV</label><div class=\"sk-toggleable__content\"><pre>GridSearchCV(estimator=KNeighborsRegressor(),\n",
       "             param_grid={'n_neighbors': [3, 5, 11, 19, 21]})</pre></div></div></div><div class=\"sk-parallel\"><div class=\"sk-parallel-item\"><div class=\"sk-item\"><div class=\"sk-serial\"><div class=\"sk-item\"><div class=\"sk-estimator sk-toggleable\"><input class=\"sk-toggleable__control sk-hidden--visually\" id=\"4536eaa7-63dc-4c7e-bd70-2e01c0e6ee4f\" type=\"checkbox\" ><label class=\"sk-toggleable__label\" for=\"4536eaa7-63dc-4c7e-bd70-2e01c0e6ee4f\">KNeighborsRegressor</label><div class=\"sk-toggleable__content\"><pre>KNeighborsRegressor()</pre></div></div></div></div></div></div></div></div></div></div></div></div></div></div></div></div></div></div><div class=\"sk-parallel-item\"><div class=\"sk-item\"><div class=\"sk-label-container\"><div class=\"sk-label sk-toggleable\"><label>category_model</label></div></div><div class=\"sk-serial\"><div class=\"sk-item sk-dashed-wrapped\"><div class=\"sk-parallel\"><div class=\"sk-parallel-item\"><div class=\"sk-item\"><div class=\"sk-serial\"><div class=\"sk-item\"><div class=\"sk-serial\"><div class=\"sk-item\"><div class=\"sk-estimator sk-toggleable\"><input class=\"sk-toggleable__control sk-hidden--visually\" id=\"1e3ad17a-5e02-4617-b045-dabd71bdd2ca\" type=\"checkbox\" ><label class=\"sk-toggleable__label\" for=\"1e3ad17a-5e02-4617-b045-dabd71bdd2ca\">ToDataFrame</label><div class=\"sk-toggleable__content\"><pre>ToDataFrame()</pre></div></div></div><div class=\"sk-item sk-dashed-wrapped\"><div class=\"sk-label-container\"><div class=\"sk-label sk-toggleable\"><input class=\"sk-toggleable__control sk-hidden--visually\" id=\"bdc894e8-93c0-47b0-8155-7ac48737ccae\" type=\"checkbox\" ><label class=\"sk-toggleable__label\" for=\"bdc894e8-93c0-47b0-8155-7ac48737ccae\">features: ColumnTransformer</label><div class=\"sk-toggleable__content\"><pre>ColumnTransformer(transformers=[('categorical',\n",
       "                                 Pipeline(steps=[('dict_encode', DictEncoder()),\n",
       "                                                 ('dictvect',\n",
       "                                                  DictVectorizer(sparse=False))]),\n",
       "                                 'categories')])</pre></div></div></div><div class=\"sk-parallel\"><div class=\"sk-parallel-item\"><div class=\"sk-item\"><div class=\"sk-label-container\"><div class=\"sk-label sk-toggleable\"><input class=\"sk-toggleable__control sk-hidden--visually\" id=\"f5b00f90-a7a6-4a0e-a279-8dd9225cdeab\" type=\"checkbox\" ><label class=\"sk-toggleable__label\" for=\"f5b00f90-a7a6-4a0e-a279-8dd9225cdeab\">categorical</label><div class=\"sk-toggleable__content\"><pre>categories</pre></div></div></div><div class=\"sk-serial\"><div class=\"sk-item\"><div class=\"sk-serial\"><div class=\"sk-item\"><div class=\"sk-estimator sk-toggleable\"><input class=\"sk-toggleable__control sk-hidden--visually\" id=\"dd0826fd-8d45-4ea3-acfa-7f9ae5c3b748\" type=\"checkbox\" ><label class=\"sk-toggleable__label\" for=\"dd0826fd-8d45-4ea3-acfa-7f9ae5c3b748\">DictEncoder</label><div class=\"sk-toggleable__content\"><pre>DictEncoder()</pre></div></div></div><div class=\"sk-item\"><div class=\"sk-estimator sk-toggleable\"><input class=\"sk-toggleable__control sk-hidden--visually\" id=\"33ebcf11-90e3-43ff-b022-f137411217ab\" type=\"checkbox\" ><label class=\"sk-toggleable__label\" for=\"33ebcf11-90e3-43ff-b022-f137411217ab\">DictVectorizer</label><div class=\"sk-toggleable__content\"><pre>DictVectorizer(sparse=False)</pre></div></div></div></div></div></div></div></div></div></div><div class=\"sk-item sk-dashed-wrapped\"><div class=\"sk-label-container\"><div class=\"sk-label sk-toggleable\"><input class=\"sk-toggleable__control sk-hidden--visually\" id=\"ab178ed1-d422-457e-b0a6-fe4a488c312a\" type=\"checkbox\" ><label class=\"sk-toggleable__label\" for=\"ab178ed1-d422-457e-b0a6-fe4a488c312a\">ridgg: GridSearchCV</label><div class=\"sk-toggleable__content\"><pre>GridSearchCV(estimator=Ridge(), param_grid={'alpha': [1, 0.1, 0.01, 0.001]})</pre></div></div></div><div class=\"sk-parallel\"><div class=\"sk-parallel-item\"><div class=\"sk-item\"><div class=\"sk-serial\"><div class=\"sk-item\"><div class=\"sk-estimator sk-toggleable\"><input class=\"sk-toggleable__control sk-hidden--visually\" id=\"bda8df49-715a-4504-9007-0b87207ca1f6\" type=\"checkbox\" ><label class=\"sk-toggleable__label\" for=\"bda8df49-715a-4504-9007-0b87207ca1f6\">Ridge</label><div class=\"sk-toggleable__content\"><pre>Ridge()</pre></div></div></div></div></div></div></div></div></div></div></div></div></div></div></div></div></div></div><div class=\"sk-parallel-item\"><div class=\"sk-item\"><div class=\"sk-label-container\"><div class=\"sk-label sk-toggleable\"><label>linear_model</label></div></div><div class=\"sk-serial\"><div class=\"sk-item sk-dashed-wrapped\"><div class=\"sk-parallel\"><div class=\"sk-parallel-item\"><div class=\"sk-item\"><div class=\"sk-serial\"><div class=\"sk-item\"><div class=\"sk-estimator sk-toggleable\"><input class=\"sk-toggleable__control sk-hidden--visually\" id=\"224d394e-5a9e-4735-8376-5ff7209d4686\" type=\"checkbox\" ><label class=\"sk-toggleable__label\" for=\"224d394e-5a9e-4735-8376-5ff7209d4686\">AttributeModel</label><div class=\"sk-toggleable__content\"><pre>AttributeModel()</pre></div></div></div></div></div></div></div></div></div></div></div></div></div><div class=\"sk-item\"><div class=\"sk-estimator sk-toggleable\"><input class=\"sk-toggleable__control sk-hidden--visually\" id=\"578a76a9-7e8f-4e6c-ae63-986c2f62e63e\" type=\"checkbox\" ><label class=\"sk-toggleable__label\" for=\"578a76a9-7e8f-4e6c-ae63-986c2f62e63e\">LinearRegression</label><div class=\"sk-toggleable__content\"><pre>LinearRegression()</pre></div></div></div></div></div></div></div>"
      ],
      "text/plain": [
       "Pipeline(steps=[('union',\n",
       "                 FeatureUnion(transformer_list=[('city_model',\n",
       "                                                 ModelTransformer(model=CityRegressor())),\n",
       "                                                ('lat_long_model',\n",
       "                                                 ModelTransformer(model=Pipeline(steps=[('to_frame',\n",
       "                                                                                         ToDataFrame()),\n",
       "                                                                                        ('features',\n",
       "                                                                                         ColumnTransformer(transformers=[('encoder',\n",
       "                                                                                                                          'passthrough',\n",
       "                                                                                                                          ['latitude']),\n",
       "                                                                                                                         ('encoders',\n",
       "                                                                                                                          'passthrough',\n",
       "                                                                                                                          ['longitude'])])),\n",
       "                                                                                        ('gs_est',\n",
       "                                                                                         GridSearchCV(estim...\n",
       "                                                                                         ToDataFrame()),\n",
       "                                                                                        ('features',\n",
       "                                                                                         ColumnTransformer(transformers=[('categorical',\n",
       "                                                                                                                          Pipeline(steps=[('dict_encode',\n",
       "                                                                                                                                           DictEncoder()),\n",
       "                                                                                                                                          ('dictvect',\n",
       "                                                                                                                                           DictVectorizer(sparse=False))]),\n",
       "                                                                                                                          'categories')])),\n",
       "                                                                                        ('ridgg',\n",
       "                                                                                         GridSearchCV(estimator=Ridge(),\n",
       "                                                                                                      param_grid={'alpha': [1,\n",
       "                                                                                                                            0.1,\n",
       "                                                                                                                            0.01,\n",
       "                                                                                                                            0.001]}))]))),\n",
       "                                                ('linear_model',\n",
       "                                                 ModelTransformer(model=AttributeModel()))])),\n",
       "                ('LinReg', LinearRegression())])"
      ]
     },
     "execution_count": 128,
     "metadata": {},
     "output_type": "execute_result"
    }
   ],
   "source": [
    "from sklearn.linear_model import LinearRegression\n",
    "\n",
    "full_model = Pipeline([('union',union),\n",
    "                     ('LinReg',LinearRegression())])\n",
    "\n",
    "full_model.fit(data, star_ratings)"
   ]
  }
 ],
 "metadata": {
  "kernelspec": {
   "display_name": "Python 3",
   "language": "python",
   "name": "python3"
  },
  "language_info": {
   "codemirror_mode": {
    "name": "ipython",
    "version": 3
   },
   "file_extension": ".py",
   "mimetype": "text/x-python",
   "name": "python",
   "nbconvert_exporter": "python",
   "pygments_lexer": "ipython3",
   "version": "3.8.3"
  },
  "nbclean": true
 },
 "nbformat": 4,
 "nbformat_minor": 4
}
